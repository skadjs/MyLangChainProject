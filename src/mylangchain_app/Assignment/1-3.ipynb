{
 "cells": [
  {
   "cell_type": "markdown",
   "id": "da13478c",
   "metadata": {},
   "source": [
    "### 문제 1-3 : FewShotPromptTemplate과 시스템 메시지 활용"
   ]
  }
 ],
 "metadata": {
  "language_info": {
   "name": "python"
  }
 },
 "nbformat": 4,
 "nbformat_minor": 5
}
