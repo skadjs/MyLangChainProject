{
 "cells": [
  {
   "cell_type": "markdown",
   "id": "b545a2d8",
   "metadata": {},
   "source": [
    "### 문제 1-2 : 2단계 Multi Chain 만들기 - 여행지 정보 시스템"
   ]
  }
 ],
 "metadata": {
  "language_info": {
   "name": "python"
  }
 },
 "nbformat": 4,
 "nbformat_minor": 5
}
