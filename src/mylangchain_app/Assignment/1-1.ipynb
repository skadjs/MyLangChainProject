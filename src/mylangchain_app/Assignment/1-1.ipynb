{
 "cells": [
  {
   "cell_type": "markdown",
   "id": "12e4435f",
   "metadata": {},
   "source": [
    "## 문제 1-1 : 기본 Chain 만들기 - AI 요리사"
   ]
  },
  {
   "cell_type": "code",
   "execution_count": 6,
   "id": "2d87e3ce",
   "metadata": {},
   "outputs": [
    {
     "name": "stdout",
     "output_type": "stream",
     "text": [
      "**추천 요리 : 토마토·양파·치즈 파스타 (간단한 크림 파스타)**  \n",
      "\n",
      "### 재료 (1인분)\n",
      "| 재료 | 양 |\n",
      "|------|----|\n",
      "| 스파게티 면(또는 좋아하는 파스타) | 100 g |\n",
      "| 토마토 | 1~2개 (중간 크기) |\n",
      "| 양파 | ½개 |\n",
      "| 모짜렐라 치즈(또는 슬라이스 치즈) | 50 g |\n",
      "| 올리브 오일 | 1 큰술 |\n",
      "| 마늘(선택) | 1쪽 (다진 것) |\n",
      "| 소금·후추 | 기호에 따라 |\n",
      "| 파슬리(선택) | 약간 (다진 것) |\n",
      "\n",
      "### 간단 레시피\n",
      "1. **파스타 삶기**  \n",
      "   - 큰 냄비에 물을 끓이고 소금을 넣은 뒤 스파게티 면을 포장에 적힌 시간보다 1분 정도 덜 익히게 삶는다. 물은 약간 남겨두고(파스타 물 ½컵) 면을 건져 놓는다.\n",
      "\n",
      "2. **재료 손질**  \n",
      "   - 토마토는 씻어 1 cm 정도의 깍둑썰기, 양파는 얇게 채 썬다. 치즈는 작게 찢거나 큐브 형태로 준비한다.\n",
      "\n",
      "3. **소스 만들기**  \n",
      "   - 팬에 올리브 오일을 두르고 중불에 달군 뒤 다진 마늘(사용한다면)과 양파를 넣어 투명해질 때까지 2~3분 볶는다.  \n",
      "   - 토마토를 넣고 약간 물기가 날아갈 때까지 3~4분 정도 끓인다. (필요하면 파스타 물을 약간 추가해도 좋다.)\n",
      "\n",
      "4. **파스타와 섞기**  \n",
      "   - 삶아 둔 파스타와 치즈를 팬에 넣고 전체가 골고루 섞이도록 1분 정도 볶는다.  \n",
      "   - 소금·후추로 간을 맞추고, 원한다면 파슬리를 뿌려 마무리한다.\n",
      "\n",
      "5. **완성**  \n",
      "   - 접시에 담아 바로 즐긴다. 치즈가 살짝 녹아 부드러운 크림 같은 식감이 살아납니다.\n",
      "\n",
      "### 팁\n",
      "- 토마토가 너무 물러서면 반으로 갈아 소스로 만든 뒤 사용하면 더 부드러운 맛을 낼 수 있어요.  \n",
      "- 치즈를 모짜렐라 대신 체다, 파르메산 등 취향에 맞는 치즈로 바꾸면 색다른 풍미를 즐길 수 있습니다.  \n",
      "\n",
      "**한 끼 식사로도 충분하고, 준비 시간도 20분 이내**에 끝낼 수 있는 간단하고 맛있는 파스타입니다! 즐거운 요리 시간 되세요.\n"
     ]
    }
   ],
   "source": [
    "from dotenv import load_dotenv\n",
    "import os\n",
    "from langchain_openai import ChatOpenAI\n",
    "from langchain_core.output_parsers import StrOutputParser\n",
    "from langchain_core.prompts import PromptTemplate\n",
    "\n",
    "# .env 파일 불러와서 환경변수로 설정\n",
    "load_dotenv(dotenv_path='.env')\n",
    "\n",
    "OPENAI_API_KEY = os.getenv(\"OPENAI_API_KEY\")\n",
    "\n",
    "prompt = PromptTemplate.from_template(\"당신은 재료를 입력 받으면 그 재료로 만들 수 있는 요리를 추천해 주는 요리사입니다. \\\n",
    "                                      질문에 답하세요. <질문>: {input}로 만들 수 있는 요리 하나와 간단한 레시피를 알려주세요.\")\n",
    "\n",
    "llm = ChatOpenAI(\n",
    "    api_key=OPENAI_API_KEY,\n",
    "    base_url=\"https://api.groq.com/openai/v1\",\n",
    "    model=\"openai/gpt-oss-120b\",\n",
    "    temperature=0.7\n",
    "    \n",
    ")\n",
    "\n",
    "output_parser = StrOutputParser()\n",
    "\n",
    "# 2. chain 생성 (LCEL)\n",
    "chain = prompt | llm | output_parser\n",
    "\n",
    "# 3. chain의 invoke 호출\n",
    "result = chain.invoke({\"input\": \"토마토, 양파, 치즈\"})\n",
    "print(result)"
   ]
  }
 ],
 "metadata": {
  "kernelspec": {
   "display_name": "mylangchain-app-py3.11",
   "language": "python",
   "name": "python3"
  },
  "language_info": {
   "codemirror_mode": {
    "name": "ipython",
    "version": 3
   },
   "file_extension": ".py",
   "mimetype": "text/x-python",
   "name": "python",
   "nbconvert_exporter": "python",
   "pygments_lexer": "ipython3",
   "version": "3.11.13"
  }
 },
 "nbformat": 4,
 "nbformat_minor": 5
}
