{
 "cells": [
  {
   "cell_type": "code",
   "execution_count": 1,
   "id": "d8fa7ab1",
   "metadata": {},
   "outputs": [
    {
     "name": "stdout",
     "output_type": "stream",
     "text": [
      "Hello LangChain\n"
     ]
    }
   ],
   "source": [
    "print(\"Hello LangChain\")"
   ]
  },
  {
   "cell_type": "code",
   "execution_count": null,
   "id": "cb097a2e",
   "metadata": {},
   "outputs": [
    {
     "name": "stdout",
     "output_type": "stream",
     "text": [
      "gsk_3\n"
     ]
    }
   ],
   "source": [
    "import os\n",
    "from dotenv import load_dotenv\n",
    "from langchain_core.prompts import ChatPromptTemplate\n",
    "from langchain_openai import ChatOpenAI \n",
    "\n",
    "#load_dotenv(dotenv_path='.env')\n",
    "load_dotenv()\n",
    "OPENAI_API_KEY = os.getenv(\"OPENAI_API_KEY\")\n",
    "#print(OPENAI_API_KEY[:10])\n",
    "print(OPENAI_API_KEY[:5])"
   ]
  },
  {
   "cell_type": "code",
   "execution_count": 20,
   "id": "ef09a323",
   "metadata": {},
   "outputs": [
    {
     "name": "stdout",
     "output_type": "stream",
     "text": [
      "<class 'langchain_core.prompts.chat.ChatPromptTemplate'>\n",
      "input_variables=['input'] input_types={} partial_variables={} messages=[SystemMessagePromptTemplate(prompt=PromptTemplate(input_variables=[], input_types={}, partial_variables={}, template='당신은 개발자입니다.'), additional_kwargs={}), HumanMessagePromptTemplate(prompt=PromptTemplate(input_variables=['input'], input_types={}, partial_variables={}, template='{input}'), additional_kwargs={})]\n"
     ]
    }
   ],
   "source": [
    "# prompt + llm + output \n",
    "\n",
    "# prompt: (쉽게 말해) AI에게 하는 질문\n",
    "prompt = ChatPromptTemplate.from_messages(\n",
    "    [ (\"system\", \"당신은 개발자입니다.\") , # AI에게 역할을 주는 것.\n",
    "     (\"user\", \"{input}\") ]\n",
    ")\n",
    "print(type(prompt))\n",
    "print(prompt)"
   ]
  },
  {
   "cell_type": "code",
   "execution_count": 30,
   "id": "b6c47481",
   "metadata": {},
   "outputs": [
    {
     "name": "stdout",
     "output_type": "stream",
     "text": [
      "<class 'str'>\n",
      "System: 당신은 개발자입니다.\n",
      "Human: 파이썬은 무엇인가요? 자세하게 설명해주세요\n"
     ]
    }
   ],
   "source": [
    "prompt_text = prompt.format(input=\"파이썬은 무엇인가요? 자세하게 설명해주세요\")\n",
    "print(type(prompt_text))\n",
    "print(prompt_text)"
   ]
  },
  {
   "cell_type": "code",
   "execution_count": 32,
   "id": "0c61ba15",
   "metadata": {},
   "outputs": [
    {
     "name": "stdout",
     "output_type": "stream",
     "text": [
      "<class 'langchain_openai.chat_models.base.ChatOpenAI'>\n",
      "client=<openai.resources.chat.completions.completions.Completions object at 0x14029dd50> async_client=<openai.resources.chat.completions.completions.AsyncCompletions object at 0x14029d790> root_client=<openai.OpenAI object at 0x14029f3d0> root_async_client=<openai.AsyncOpenAI object at 0x14029cf50> model_name='moonshotai/kimi-k2-instruct-0905' temperature=0.7 model_kwargs={} openai_api_key=SecretStr('**********') openai_api_base='https://api.groq.com/openai/v1'\n"
     ]
    }
   ],
   "source": [
    "#llm = ChatOpenAI(api_key=OPENAI_API_KEY, model_name=\"gpt-3.5-turbo-0125\")\n",
    "\n",
    "# Groq는 ChatGPT와 호환 -> ChatGPT 모델 사용 가능\n",
    "# Groq API를 사용하는 ChatOpenAI 인스턴스 생성 (모델 가져와서 생성)\n",
    "llm = ChatOpenAI(\n",
    "    #api_key=OPENAI_API_KEY,\n",
    "    base_url=\"https://api.groq.com/openai/v1\",  # Groq API 엔드포인트\n",
    "    #model=\"meta-llama/llama-4-scout-17b-16e-instruct\", # 사용 모델: llama-4-scout\n",
    "    model=\"moonshotai/kimi-k2-instruct-0905\", # 사용 모델: kimi-k2\n",
    "    temperature=0.7\n",
    ")\n",
    "print(type(llm)) # 타입: ChatOpenAI\n",
    "print(llm)"
   ]
  },
  {
   "cell_type": "code",
   "execution_count": 33,
   "id": "5c3ff864",
   "metadata": {},
   "outputs": [
    {
     "name": "stdout",
     "output_type": "stream",
     "text": [
      "<class 'langchain_core.messages.ai.AIMessage'>\n",
      "응답: 파이썬(Python)은 1991년 네덜란드의 개발자 귀도 반 로섬(Guido van Rossum)이 만들고 1994년 1.0으로 공개된 고급 프로그래밍 언어입니다. 이름은 그가 좋아하는 코미디 그룹 ‘Monty Python’에서 따왔습니다. 다음은 파이썬이 어떤 언어이며, 어떤 특징을 가지고 있는지, 어떻게 활용되는지를 가능한 한 상세히 정리한 설명입니다.\n",
      "\n",
      "────────────────────────────────────────\n",
      "1. 언어적 위치와 철학\n",
      "────────────────────────────────────────\n",
      "1) 고급 언어(High-level language)\n",
      "- 하드웨어 제어에 가까운 ‘저급’ 언어(C, Assembly)와 달리 사람이 읽고 쓰기 쉽게 설계됨\n",
      "- 메모리 관리, 포인터 연산 같은 저수준 세부사업을 언어 차원에서 자동 처리\n",
      "\n",
      "2) 인터프리터 방식(Interpreter)\n",
      "- 소스 코드(.py)를 한 줄씩 즉시 해석해 실행. 컴파일 언어(C, C++, Rust 등)처럼 빌드-링크-실행 단계가 필요 없음\n",
      "- 개발-테스트 사이클이 짧고 대화형(REPL) 환경이 기본 제공 → 실험적 코딩·데이터 탐색에 적합\n",
      "\n",
      "3) “배터리 포함(Batteries Included)” 철학\n",
      "- 표준 라이브러리만으로도 파일 압축·이메일·웹 서버·데이터베이스·암호화 등을 해결할 수 있도록 풍부한 모듈 포함\n",
      "- 외부 라이브러리가 있으면 더욱 강력하지만, “무작정 깔기 전에” 표준만으로도 충분한 경우가 많음\n",
      "\n",
      "4) 가독성과 명확성\n",
      "- PEP 20(“Zen of Python”)에 ‘읽기 쉬운 코드가 쓰기 쉬운 코드보다 중요하다’는 취지 담김\n",
      "- 들여쓰기(Indentation)로 블록 구조를 강제 → 작성자의 의도가 시각적으로 드러남\n",
      "\n",
      "────────────────────────────────────────\n",
      "2. 언어적 특징\n",
      "────────────────────────────────────────\n",
      "1) 동적 타이핑(Dynamic Typing)\n",
      "- 변수에 타입을 미리 선언하지 않음. 실행 중에 객체 타입이 결정\n",
      "- 장점: 빠른 프로토타이핑 / 단점: 런타임에 타입 오류가 드러날 가능성 → type hint, mypy 등으로 보완\n",
      "\n",
      "2) 강력한 객체 지향\n",
      "- 모든 것이 객체. 다중 상속, 연산자 오버로딩, 데코레이터, 메타클래스 등 고급 OOP 기능 제공\n",
      "- “프로토콜” 개념(특별 매직 메서드)으로 딕셔너리·리스트처럼 동작하는 사용자 클래스 설계 가능\n",
      "\n",
      "3) 함수형 프로그래밍 지원\n",
      "- 람다, 내장 map/filter/reduce, 리스트·딕셔너리·제너레이터 컴프리헨션, functools/itertools 모듈\n",
      "- 1급 함수(First-class function) → 함수를 변수에 저장·전달·클로저·데코레이터 구현 가능\n",
      "\n",
      "4) 메모리 관리\n",
      "- 자동 가비지 컬렉션(참조 카운트 + 사이클 탐지). 개발자가 malloc/free 고민할 필요 없음\n",
      "- 메모리 풀링, weakref, __del__ 등 세밀한 제어가 필요할 때도 옵션 제공\n",
      "\n",
      "5) 확장성\n",
      "- C/C++, Fortran 코드를 연결하는 C-API → 병목이 되는 연산을 C로 옮겨 고속화(Cython, pybind11, ctypes)\n",
      "- 반대로 파이썬을 내장 스크립팅 언어로 삼는 프로그램(Blender, GIMP, Unity 플러그인 등)도 많음\n",
      "\n",
      "────────────────────────────────────────\n",
      "3. 생태계와 버전\n",
      "────────────────────────────────────────\n",
      "1) 파이썬 2 vs 3\n",
      "- 2008년 파이썬 3 발표. print 문법, 유니코드 처리, 정수 나눗셈 등 하위 호환 깨는 개선\n",
      "- 2020년 1월 파이썬 2 공식 지원 종료. 신규 개발은 3.x 권장(현재는 3.12까지 출시)\n",
      "\n",
      "2) 패키지 매니저\n",
      "- PyPI(Python Package Index)에 40만+ 오픈소스 라이브러리 등록 → pip install 명령 한 줄로 설치\n",
      "- conda, poetry, pipenv, uv 등 가상 환경·종속성 관리 도구가 다양\n",
      "\n",
      "3) 가상 환경\n",
      "- venv, virtualenv, conda env 등으로 프로젝트별 독립 공간 구성 → “깨진 종속성 지옥” 방지\n",
      "\n",
      "────────────────────────────────────────\n",
      "4. 주요 활용 분야\n",
      "────────────────────────────────────────\n",
      "1) 데이터 분석·과학\n",
      "- NumPy: 고성능 다차원 배열\n",
      "- pandas: DataFrame 기반 정형 데이터 처리\n",
      "- SciPy: 과학·공학 계산\n",
      "- Matplotlib, Seaborn, Plotly: 시각화\n",
      "- scikit-learn, statsmodels: 머신러닝·통계\n",
      "- Jupyter Notebook/Lab: 대화형 노트북 환경 → 분석·교육·리포트 삼박자\n",
      "\n",
      "2) 인공지능·머신러닝·딥러닝\n",
      "- TensorFlow, PyTorch, Keras, Hugging Face Transformers 등 생태계의 사실상 표준\n",
      "- 하드웨어 가속(GPU/TPU) 바인딩이 잘 되어 있음\n",
      "\n",
      "3) 웹 개발\n",
      "- Django: “ batteries included” 웹 프레임워크. ORM, 인증, 관리자 UI 등 풀세트\n",
      "- Flask, FastAPI: 마이크로·ASGI 기반 고성능 API\n",
      "- BeautifulSoup, Scrapy: 크롤링·스크레이핑\n",
      "\n",
      "4) DevOps·시스템 관리\n",
      "- Ansible, SaltStack: 자동화·배포\n",
      "- Fabric, Invoke: SSH 기반 원격 명령·스크립트\n",
      "- OpenStack, AWS CDK, pulumi: 인프라스트럭처를 코드로\n",
      "\n",
      "5) 데스크톱 GUI\n",
      "- Tkinter(표준), PyQt, PySide, Kivy, wxPython 등\n",
      "\n",
      "6) 게임·그래픽\n",
      "- Pygame, Panda3D, Godot 스크립트(파이썬 유사), Blender scripting\n",
      "\n",
      "7) 임베디드·사물인터넷\n",
      "- MicroPython, CircuitPython: 메모리 제약 마이크로컨트롤러에서 직접 실행\n",
      "- Raspberry Pi: 교육·제작 무빙의 대표 플랫폼\n",
      "\n",
      "────────────────────────────────────────\n",
      "5. 예제 코드\n",
      "────────────────────────────────────────\n",
      "1) 짧은 직관 예제\n",
      "```python\n",
      "# 리스트 컴프리헨션과 함수\n",
      "def squares(n):\n",
      "    return [x*x for x in range(1, n+1)]\n",
      "\n",
      "print(squares(5))          # [1, 4, 9, 16, 25]\n",
      "```\n",
      "\n",
      "2) pandas로 CSV 읽고 기초 통계\n",
      "```python\n",
      "import pandas as pd\n",
      "df = pd.read_csv('sales.csv')\n",
      "print(df.groupby('Region')['Revenue'].mean())\n",
      "```\n",
      "\n",
      "3) FastAPI로 REST API 한 줄\n",
      "```python\n",
      "from fastapi import FastAPI\n",
      "app = FastAPI()\n",
      "\n",
      "@app.get(\"/\")\n",
      "def root():\n",
      "    return {\"message\": \"Hello World\"}\n",
      "```\n",
      "\n",
      "────────────────────────────────────────\n",
      "6. 장점\n",
      "────────────────────────────────────────\n",
      "1) 배우기 쉬움 → 문법이 단순, 영어 어휘와 유사\n",
      "2) 개발 속도가 빠름 → 인터프리터+라이브러리\n",
      "3) 방대한 커뮤니티 → 스택오버플로우, 튜토리얼, 오픈소스\n",
      "4) 크로스 플랫폼 → Windows, macOS, Linux, BSD 등\n",
      "5) 생산성이 검증 → 스타트업·빅테크·정부·대학 모두 도입\n",
      "\n",
      "────────────────────────────────────────\n",
      "7. 단점 및 보완\n",
      "────────────────────────────────────────\n",
      "1) 실행 속도\n",
      "- CPython은 인터프리터 + GIL(글로벌 인터락)로 인해 CPU-bound 연산에서 느릴 수 있음\n",
      "- 보완: PyPy(JIT), Cython, Numba, Numpy(벡터화), 멀티프로세싱, 러스트 확장 등\n",
      "\n",
      "2) 모바일·임베디드\n",
      "- 안드로이드/iOS 네이티브 앱에는 적합하지 않음. Kivy·BeeWare 등은 한계 존재\n",
      "- 즉, “모든 플랫폼에서 최선”은 아님\n",
      "\n",
      "3) 패키지 의존성\n",
      "- 버전 충돌·보안 취약점 가능 → 가상 환경, poetry lock, dependabot, pip-audit 등 관리 필요\n",
      "\n",
      "────────────────────────────────────────\n",
      "8. 설치·실행 흐름\n",
      "────────────────────────────────────────\n",
      "1) 설치\n",
      "- 공식 사이트 python.org 에서 운영체제별 인스톨러\n",
      "- 윈도우 Microsoft Store, macOS homebrew, Linux apt/dnf 등\n",
      "\n",
      "2) 실행\n",
      "- 대화형: 터미널에서 python 입력 → >>> 프롬프트\n",
      "- 스크립트: python hello.py\n",
      "- 가상환경: python -m venv .venv && source .venv/bin/activate\n",
      "\n",
      "────────────────────────────────────────\n",
      "9. 학습 로드맵(초급→중급→고급)\n",
      "────────────────────────────────────────\n",
      "1) 기초 문법: 자료형, 제어문, 함수, 모듈\n",
      "2) 표준 라이브러리 탐색: os, sys, datetime, collections, pathlib, itertools\n",
      "3) 가상환경·패키지 관리, 단위 테스트(pytest)\n",
      "4) 객체지향 + 디자인 패턴 + type hint\n",
      "5) 병렬성: threading, multiprocessing, concurrent.futures, asyncio\n",
      "6) 성능 최적화: profiling, Cython, Numba, 러스트 확장\n",
      "7) 고급 비동기·메타프로그래밍: 데코레이터, 컨텍스트 매니저, 메타클래스\n",
      "8) 특화 분야(데이터, 웹, AI) 깊게\n",
      "\n",
      "────────────────────────────────────────\n",
      "10. 요약 한 줄\n",
      "────────────────────────────────────────\n",
      "“파이썬은 ‘읽기 쉽고 활용도 높으며, 방대한 라이브러리가 준비된 고급 범용 언어’로, 최고의 생산성을 내세워 빠른 개발이 필요한 분야—특히 데이터, AI, 웹, 자동화—에서 사실상 표준으로 자리 잡았다.”\n"
     ]
    }
   ],
   "source": [
    "# 생성한 모델에 질문하기(prompt 입력)\n",
    "try:\n",
    "    response = llm.invoke(prompt_text)\n",
    "    print(type(response))\n",
    "    print(\"응답:\", response.content)\n",
    "except Exception as e:\n",
    "    print(f\"오류 발생: {e}\")"
   ]
  },
  {
   "cell_type": "code",
   "execution_count": 7,
   "id": "b2e4a8e5",
   "metadata": {},
   "outputs": [],
   "source": [
    "from langchain_core.output_parsers import StrOutputParser\n",
    "\n",
    "output_parser = StrOutputParser()"
   ]
  },
  {
   "cell_type": "code",
   "execution_count": 8,
   "id": "fd77300d",
   "metadata": {},
   "outputs": [
    {
     "name": "stdout",
     "output_type": "stream",
     "text": [
      "<class 'langchain_core.runnables.base.RunnableSequence'>\n",
      "first=ChatPromptTemplate(input_variables=['input'], input_types={}, partial_variables={}, messages=[SystemMessagePromptTemplate(prompt=PromptTemplate(input_variables=[], input_types={}, partial_variables={}, template='당신은 개발자입니다.'), additional_kwargs={}), HumanMessagePromptTemplate(prompt=PromptTemplate(input_variables=['input'], input_types={}, partial_variables={}, template='{input}'), additional_kwargs={})]) middle=[ChatOpenAI(client=<openai.resources.chat.completions.completions.Completions object at 0x13794dcd0>, async_client=<openai.resources.chat.completions.completions.AsyncCompletions object at 0x140224090>, root_client=<openai.OpenAI object at 0x1378a6f90>, root_async_client=<openai.AsyncOpenAI object at 0x137e7d6d0>, model_name='meta-llama/llama-4-scout-17b-16e-instruct', temperature=0.7, model_kwargs={}, openai_api_key=SecretStr('**********'), openai_api_base='https://api.groq.com/openai/v1')] last=StrOutputParser()\n"
     ]
    }
   ],
   "source": [
    "chain = prompt | llm | output_parser\n",
    "print(type(chain))\n",
    "print(chain)"
   ]
  },
  {
   "cell_type": "code",
   "execution_count": 9,
   "id": "2c5ee6e1",
   "metadata": {},
   "outputs": [],
   "source": [
    "response = chain.invoke({\"input\":\"지구의 자전주기는 얼마인가요?\"})"
   ]
  },
  {
   "cell_type": "code",
   "execution_count": 10,
   "id": "51e647dc",
   "metadata": {},
   "outputs": [
    {
     "name": "stdout",
     "output_type": "stream",
     "text": [
      "<class 'str'>\n",
      "지구의 자전주기는 24시간입니다. 이를 태양시라고 부르기도 합니다.\n"
     ]
    }
   ],
   "source": [
    "print(type(response))\n",
    "print(response)"
   ]
  }
 ],
 "metadata": {
  "kernelspec": {
   "display_name": "mylangchain-app-py3.13",
   "language": "python",
   "name": "python3"
  },
  "language_info": {
   "codemirror_mode": {
    "name": "ipython",
    "version": 3
   },
   "file_extension": ".py",
   "mimetype": "text/x-python",
   "name": "python",
   "nbconvert_exporter": "python",
   "pygments_lexer": "ipython3",
   "version": "3.11.13"
  }
 },
 "nbformat": 4,
 "nbformat_minor": 5
}
