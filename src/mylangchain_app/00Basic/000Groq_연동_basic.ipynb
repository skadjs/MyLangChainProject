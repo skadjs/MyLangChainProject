{
 "cells": [
  {
   "cell_type": "code",
   "execution_count": 1,
   "id": "d8fa7ab1",
   "metadata": {},
   "outputs": [
    {
     "name": "stdout",
     "output_type": "stream",
     "text": [
      "Hello LangChain\n"
     ]
    }
   ],
   "source": [
    "print(\"Hello LangChain\")"
   ]
  },
  {
   "cell_type": "code",
   "execution_count": null,
   "id": "cb097a2e",
   "metadata": {},
   "outputs": [
    {
     "name": "stdout",
     "output_type": "stream",
     "text": [
      "gsk_3\n"
     ]
    }
   ],
   "source": [
    "import os\n",
    "from dotenv import load_dotenv\n",
    "from langchain_core.prompts import ChatPromptTemplate\n",
    "from langchain_openai import ChatOpenAI \n",
    "\n",
    "#load_dotenv(dotenv_path='.env')\n",
    "load_dotenv()\n",
    "OPENAI_API_KEY = os.getenv(\"OPENAI_API_KEY\")\n",
    "#print(OPENAI_API_KEY[:10])\n",
    "print(OPENAI_API_KEY[:5])"
   ]
  },
  {
   "cell_type": "code",
   "execution_count": 20,
   "id": "ef09a323",
   "metadata": {},
   "outputs": [
    {
     "name": "stdout",
     "output_type": "stream",
     "text": [
      "<class 'langchain_core.prompts.chat.ChatPromptTemplate'>\n",
      "input_variables=['input'] input_types={} partial_variables={} messages=[SystemMessagePromptTemplate(prompt=PromptTemplate(input_variables=[], input_types={}, partial_variables={}, template='당신은 개발자입니다.'), additional_kwargs={}), HumanMessagePromptTemplate(prompt=PromptTemplate(input_variables=['input'], input_types={}, partial_variables={}, template='{input}'), additional_kwargs={})]\n"
     ]
    }
   ],
   "source": [
    "# prompt + llm + output \n",
    "\n",
    "# prompt: (쉽게 말해) AI에게 하는 질문\n",
    "prompt = ChatPromptTemplate.from_messages(\n",
    "    [ (\"system\", \"당신은 개발자입니다.\") , # AI에게 역할을 주는 것.\n",
    "     (\"user\", \"{input}\") ]\n",
    ")\n",
    "print(type(prompt))\n",
    "print(prompt)"
   ]
  },
  {
   "cell_type": "code",
   "execution_count": 30,
   "id": "b6c47481",
   "metadata": {},
   "outputs": [
    {
     "name": "stdout",
     "output_type": "stream",
     "text": [
      "<class 'str'>\n",
      "System: 당신은 개발자입니다.\n",
      "Human: 파이썬은 무엇인가요? 자세하게 설명해주세요\n"
     ]
    }
   ],
   "source": [
    "prompt_text = prompt.format(input=\"파이썬은 무엇인가요? 자세하게 설명해주세요\")\n",
    "print(type(prompt_text))\n",
    "print(prompt_text)"
   ]
  },
  {
   "cell_type": "code",
   "execution_count": 37,
   "id": "0c61ba15",
   "metadata": {},
   "outputs": [
    {
     "name": "stdout",
     "output_type": "stream",
     "text": [
      "<class 'langchain_openai.chat_models.base.ChatOpenAI'>\n",
      "client=<openai.resources.chat.completions.completions.Completions object at 0x140293790> async_client=<openai.resources.chat.completions.completions.AsyncCompletions object at 0x1402ba610> root_client=<openai.OpenAI object at 0x14011d2d0> root_async_client=<openai.AsyncOpenAI object at 0x140292490> model_name='openai/gpt-oss-120b' temperature=0.7 model_kwargs={} openai_api_key=SecretStr('**********') openai_api_base='https://api.groq.com/openai/v1'\n"
     ]
    }
   ],
   "source": [
    "#llm = ChatOpenAI(api_key=OPENAI_API_KEY, model_name=\"gpt-3.5-turbo-0125\")\n",
    "\n",
    "# Groq는 ChatGPT와 호환 -> ChatGPT 모델 사용 가능\n",
    "# Groq API를 사용하는 ChatOpenAI 인스턴스 생성 (모델 가져와서 생성)\n",
    "llm = ChatOpenAI(\n",
    "    #api_key=OPENAI_API_KEY,\n",
    "    base_url=\"https://api.groq.com/openai/v1\",  # Groq API 엔드포인트\n",
    "    #model=\"meta-llama/llama-4-scout-17b-16e-instruct\", # 사용 모델: llama-4-scout\n",
    "    #model=\"moonshotai/kimi-k2-instruct-0905\", # 사용 모델: kimi-k2\n",
    "    model=\"openai/gpt-oss-120b\", # 사용 모델: gpt-oss-120b\n",
    "    temperature=0.7\n",
    ")\n",
    "print(type(llm)) # 타입: ChatOpenAI\n",
    "print(llm)"
   ]
  },
  {
   "cell_type": "code",
   "execution_count": 38,
   "id": "5c3ff864",
   "metadata": {},
   "outputs": [
    {
     "name": "stdout",
     "output_type": "stream",
     "text": [
      "<class 'langchain_core.messages.ai.AIMessage'>\n",
      "응답: ## 파이썬(Python)이란?\n",
      "\n",
      "파이썬은 **고급(high‑level) 프로그래밍 언어**이며, 1991년 네덜란드의 귀도 반 로섬(Guido van Rossum)이 처음 발표했습니다. 현재는 전 세계 수많은 개발자와 기업이 사용하고 있는 가장 인기 있는 언어 중 하나이며, **읽기 쉬운 문법**, **다양한 라이브러리·프레임워크**, **광범위한 적용 분야**가 특징입니다.\n",
      "\n",
      "---\n",
      "\n",
      "## 1. 파이썬의 주요 특징\n",
      "\n",
      "| 특징 | 설명 |\n",
      "|------|------|\n",
      "| **읽기 쉬운 문법** | 코드가 자연어에 가깝고 들여쓰기로 블록을 구분해 가독성이 뛰어납니다. |\n",
      "| **동적 타이핑** | 변수 선언 시 타입을 명시하지 않아도 런타임에 자동으로 결정됩니다. |\n",
      "| **인터프리터 언어** | 소스 코드를 바로 실행할 수 있어 빠른 테스트와 프로토타이핑이 가능합니다. |\n",
      "| **멀티패러다임** | 절차형, 객체지향, 함수형 프로그래밍을 모두 지원합니다. |\n",
      "| **풍부한 표준 라이브러리** | 파일 I/O, 네트워킹, 웹, 데이터베이스, 암호화 등 2만 개 이상의 모듈 제공. |\n",
      "| **플랫폼 독립성** | Windows, macOS, Linux 등 거의 모든 운영체제에서 동일하게 동작합니다. |\n",
      "| **확장성** | C/C++ 로 작성된 모듈을 쉽게 호출하거나, Cython, PyPy 등으로 성능을 향상시킬 수 있습니다. |\n",
      "| **활발한 커뮤니티** | 전 세계 개발자·연구자들이 만든 수많은 오픈소스 패키지와 튜토리얼이 존재합니다. |\n",
      "\n",
      "---\n",
      "\n",
      "## 2. 파이썬의 기본 문법\n",
      "\n",
      "### 2‑1. 변수와 자료형\n",
      "```python\n",
      "# 정수, 실수, 문자열, 불리언\n",
      "a = 10          # int\n",
      "b = 3.14        # float\n",
      "name = \"Alice\"  # str\n",
      "flag = True     # bool\n",
      "```\n",
      "\n",
      "### 2‑2. 컬렉션(시퀀스) 자료형\n",
      "```python\n",
      "# 리스트\n",
      "numbers = [1, 2, 3, 4]\n",
      "\n",
      "# 튜플 (불변)\n",
      "coords = (10, 20)\n",
      "\n",
      "# 딕셔너리 (키-값 쌍)\n",
      "person = {\"name\": \"Bob\", \"age\": 30}\n",
      "\n",
      "# 집합 (중복 없는 원소)\n",
      "unique = {1, 2, 3}\n",
      "```\n",
      "\n",
      "### 2‑3. 제어 흐름\n",
      "```python\n",
      "# 조건문\n",
      "if a > 5:\n",
      "    print(\"a는 5보다 큽니다.\")\n",
      "elif a == 5:\n",
      "    print(\"a는 5와 같습니다.\")\n",
      "else:\n",
      "    print(\"a는 5보다 작습니다.\")\n",
      "\n",
      "# 반복문\n",
      "for i in range(5):      # 0~4\n",
      "    print(i)\n",
      "\n",
      "while flag:\n",
      "    # 어떤 작업 수행\n",
      "    flag = False        # 루프 탈출\n",
      "```\n",
      "\n",
      "### 2‑4. 함수 정의\n",
      "```python\n",
      "def greet(name: str, times: int = 1) -> None:\n",
      "    \"\"\"인사를 여러 번 출력하는 함수.\"\"\"\n",
      "    for _ in range(times):\n",
      "        print(f\"Hello, {name}!\")\n",
      "\n",
      "greet(\"Alice\", 3)\n",
      "```\n",
      "\n",
      "### 2‑5. 클래스와 객체지향\n",
      "```python\n",
      "class Animal:\n",
      "    def __init__(self, name):\n",
      "        self.name = name\n",
      "\n",
      "    def speak(self):\n",
      "        raise NotImplementedError\n",
      "\n",
      "class Dog(Animal):\n",
      "    def speak(self):\n",
      "        return \"멍멍!\"\n",
      "\n",
      "class Cat(Animal):\n",
      "    def speak(self):\n",
      "        return \"야옹!\"\n",
      "\n",
      "dog = Dog(\"바둑이\")\n",
      "cat = Cat(\"나비\")\n",
      "print(dog.speak())  # 멍멍!\n",
      "print(cat.speak())  # 야옹!\n",
      "```\n",
      "\n",
      "---\n",
      "\n",
      "## 3. 파이썬이 쓰이는 분야\n",
      "\n",
      "| 분야 | 활용 예시 |\n",
      "|------|-----------|\n",
      "| **웹 개발** | Django, Flask, FastAPI 등 웹 프레임워크로 서버·API 구현 |\n",
      "| **데이터 과학·머신러닝** | NumPy, pandas, scikit-learn, TensorFlow, PyTorch 등 |\n",
      "| **자동화·스크립트** | 시스템 관리, 파일 처리, 웹 스크래핑(BeautifulSoup, Selenium) |\n",
      "| **과학·공학** | 시뮬레이션, 수치해석(NumPy, SciPy), 시각화(Matplotlib, Seaborn) |\n",
      "| **게임 개발** | Pygame, Panda3D 등 |\n",
      "| **데스크톱·GUI** | Tkinter, PyQt, Kivy 등 |\n",
      "| **임베디드·IoT** | MicroPython, CircuitPython |\n",
      "| **교육** | 프로그래밍 입문 언어로 널리 사용 (문법이 간단하고 직관적) |\n",
      "\n",
      "---\n",
      "\n",
      "## 4. 파이썬 실행 환경\n",
      "\n",
      "1. **CPython** – 가장 일반적인 구현 (C로 작성, 공식 레퍼런스 구현)\n",
      "2. **PyPy** – JIT(Just‑In‑Time) 컴파일러 기반, 속도가 빠름\n",
      "3. **Jython** – Java 플랫폼 위에서 동작, Java 라이브러리와 호환\n",
      "4. **IronPython** – .NET 플랫폼용 구현\n",
      "5. **MicroPython / CircuitPython** – 마이크로컨트롤러용 경량 구현\n",
      "\n",
      "### 가상 환경(Virtual Environment)\n",
      "프로젝트마다 독립적인 패키지 집합을 관리하기 위해 `venv` 또는 `conda`와 같은 가상 환경을 사용합니다.\n",
      "\n",
      "```bash\n",
      "# venv 사용 예시\n",
      "python -m venv myenv\n",
      "source myenv/bin/activate   # macOS/Linux\n",
      "myenv\\Scripts\\activate.bat  # Windows\n",
      "\n",
      "# 패키지 설치\n",
      "pip install requests pandas\n",
      "```\n",
      "\n",
      "---\n",
      "\n",
      "## 5. 파이썬 패키지 관리\n",
      "\n",
      "- **pip** : 기본 패키지 매니저 (`pip install package_name`)\n",
      "- **conda** : 과학·데이터 분야에서 많이 쓰이는 환경·패키지 매니저 (`conda install numpy`)\n",
      "- **Poetry** / **pipenv** : 의존성 파일(`pyproject.toml`, `Pipfile`)을 자동 관리해주는 현대적인 도구\n",
      "\n",
      "---\n",
      "\n",
      "## 6. 성능 최적화 팁\n",
      "\n",
      "| 방법 | 설명 |\n",
      "|------|------|\n",
      "| **Cython** | 파이썬 코드를 C로 변환해 실행 속도 향상 |\n",
      "| **Numba** | JIT 컴파일러를 사용해 수치 연산 가속 |\n",
      "| **멀티스레딩** | I/O 바운드 작업에 `threading` 활용 (GIL 제한) |\n",
      "| **멀티프로세싱** | CPU 바운드 작업에 `multiprocessing` 활용 |\n",
      "| **비동기 프로그래밍** | `asyncio` 로 I/O 병렬 처리 |\n",
      "| **프로파일링** | `cProfile`, `line_profiler` 로 병목 찾기 |\n",
      "| **외부 라이브러리** | NumPy, pandas 등 C/Fortran 기반 라이브러리 사용 |\n",
      "\n",
      "---\n",
      "\n",
      "## 7. 파이썬 학습 로드맵 (초급 → 고급)\n",
      "\n",
      "1. **기초 문법**  \n",
      "   - 변수, 자료형, 연산자, 제어문, 함수, 기본 입출력\n",
      "2. **데이터 구조**  \n",
      "   - 리스트, 튜플, 딕셔너리, 집합, 리스트 컴프리헨션\n",
      "3. **파일·예외 처리**  \n",
      "   - `open()`, `with`, `try/except`\n",
      "4. **객체지향**  \n",
      "   - 클래스, 상속, 다형성, 매직 메서드(`__init__`, `__str__` 등)\n",
      "5. **표준 라이브러리**  \n",
      "   - `datetime`, `os`, `sys`, `json`, `re`(정규표현식) 등\n",
      "6. **가상 환경·패키지 관리**  \n",
      "   - `venv`, `pip`, `requirements.txt`\n",
      "7. **웹 개발 입문**  \n",
      "   - Flask 혹은 Django 기본 프로젝트 만들기\n",
      "8. **데이터 과학 기초**  \n",
      "   - NumPy, pandas, Matplotlib 실습\n",
      "9. **테스트·디버깅**  \n",
      "   - `unittest`, `pytest`, `logging`\n",
      "10. **고급 주제**  \n",
      "    - 비동기(`asyncio`), 메타클래스, 데코레이터, Cython/Numba 활용\n",
      "11. **프로젝트 경험**  \n",
      "    - 실제 문제를 해결하는 작은 프로젝트(예: 웹 API, 데이터 분석, 자동화 스크립트) 수행\n",
      "\n",
      "---\n",
      "\n",
      "## 8. 파이썬 커뮤니티와 자료\n",
      "\n",
      "- **공식 문서** : https://docs.python.org/3/\n",
      "- **PyPI (패키지 저장소)** : https://pypi.org/\n",
      "- **Stack Overflow** : 파이썬 관련 Q&A\n",
      "- **GitHub** : 오픈소스 프로젝트 탐색\n",
      "- **Kaggle** : 데이터 사이언스·머신러닝 실습\n",
      "- **한국 파이썬 사용자 모임** : 파이콘, 파이썬코리아 등\n",
      "\n",
      "---\n",
      "\n",
      "## 9. 간단한 실습 예제: 웹 스크래핑\n",
      "\n",
      "아래 코드는 `requests`와 `BeautifulSoup`을 이용해 위키피디아 페이지의 첫 번째 문단을 가져오는 예시입니다.\n",
      "\n",
      "```python\n",
      "import requests\n",
      "from bs4 import BeautifulSoup\n",
      "\n",
      "def get_wiki_intro(title: str) -> str:\n",
      "    url = f\"https://en.wikipedia.org/wiki/{title}\"\n",
      "    resp = requests.get(url)\n",
      "    resp.raise_for_status()      # 오류 시 예외 발생\n",
      "\n",
      "    soup = BeautifulSoup(resp.text, \"html.parser\")\n",
      "    # 본문 첫 번째 <p> 요소 추출\n",
      "    first_para = soup.select_one(\"div.mw-parser-output > p\")\n",
      "    return first_para.get_text(strip=True)\n",
      "\n",
      "if __name__ == \"__main__\":\n",
      "    intro = get_wiki_intro(\"Python_(programming_language)\")\n",
      "    print(intro)\n",
      "```\n",
      "\n",
      "> **Tip**: 실제 서비스에 적용할 경우 `robots.txt` 정책을 확인하고, 과도한 요청을 피하기 위해 `time.sleep()` 등으로 딜레이를 주는 것이 좋습니다.\n",
      "\n",
      "---\n",
      "\n",
      "## 10. 결론\n",
      "\n",
      "파이썬은 **읽기 쉬운 문법**, **강력한 표준·서드파티 라이브러리**, **다양한 적용 분야** 덕분에 초보자부터 전문가까지 폭넓게 활용되는 언어입니다. 기본 문법을 탄탄히 익힌 뒤, **프로젝트 기반 학습**을 통해 웹 개발, 데이터 과학, 자동화 등 자신이 관심 있는 분야에 파이썬을 적용해 보세요. 꾸준히 코드를 작성하고, 커뮤니티에 참여한다면 빠르게 실력을 성장시킬 수 있습니다. \n",
      "\n",
      "궁금한 점이 있으면 언제든 질문해 주세요! 🚀\n"
     ]
    }
   ],
   "source": [
    "# 생성한 모델에 질문하기(prompt 입력)\n",
    "try:\n",
    "    response = llm.invoke(prompt_text)\n",
    "    print(type(response))\n",
    "    print(\"응답:\", response.content)\n",
    "except Exception as e:\n",
    "    print(f\"오류 발생: {e}\")"
   ]
  },
  {
   "cell_type": "code",
   "execution_count": 7,
   "id": "b2e4a8e5",
   "metadata": {},
   "outputs": [],
   "source": [
    "from langchain_core.output_parsers import StrOutputParser\n",
    "\n",
    "output_parser = StrOutputParser()"
   ]
  },
  {
   "cell_type": "code",
   "execution_count": 8,
   "id": "fd77300d",
   "metadata": {},
   "outputs": [
    {
     "name": "stdout",
     "output_type": "stream",
     "text": [
      "<class 'langchain_core.runnables.base.RunnableSequence'>\n",
      "first=ChatPromptTemplate(input_variables=['input'], input_types={}, partial_variables={}, messages=[SystemMessagePromptTemplate(prompt=PromptTemplate(input_variables=[], input_types={}, partial_variables={}, template='당신은 개발자입니다.'), additional_kwargs={}), HumanMessagePromptTemplate(prompt=PromptTemplate(input_variables=['input'], input_types={}, partial_variables={}, template='{input}'), additional_kwargs={})]) middle=[ChatOpenAI(client=<openai.resources.chat.completions.completions.Completions object at 0x13794dcd0>, async_client=<openai.resources.chat.completions.completions.AsyncCompletions object at 0x140224090>, root_client=<openai.OpenAI object at 0x1378a6f90>, root_async_client=<openai.AsyncOpenAI object at 0x137e7d6d0>, model_name='meta-llama/llama-4-scout-17b-16e-instruct', temperature=0.7, model_kwargs={}, openai_api_key=SecretStr('**********'), openai_api_base='https://api.groq.com/openai/v1')] last=StrOutputParser()\n"
     ]
    }
   ],
   "source": [
    "chain = prompt | llm | output_parser\n",
    "print(type(chain))\n",
    "print(chain)"
   ]
  },
  {
   "cell_type": "code",
   "execution_count": 9,
   "id": "2c5ee6e1",
   "metadata": {},
   "outputs": [],
   "source": [
    "response = chain.invoke({\"input\":\"지구의 자전주기는 얼마인가요?\"})"
   ]
  },
  {
   "cell_type": "code",
   "execution_count": 10,
   "id": "51e647dc",
   "metadata": {},
   "outputs": [
    {
     "name": "stdout",
     "output_type": "stream",
     "text": [
      "<class 'str'>\n",
      "지구의 자전주기는 24시간입니다. 이를 태양시라고 부르기도 합니다.\n"
     ]
    }
   ],
   "source": [
    "print(type(response))\n",
    "print(response)"
   ]
  }
 ],
 "metadata": {
  "kernelspec": {
   "display_name": "mylangchain-app-py3.13",
   "language": "python",
   "name": "python3"
  },
  "language_info": {
   "codemirror_mode": {
    "name": "ipython",
    "version": 3
   },
   "file_extension": ".py",
   "mimetype": "text/x-python",
   "name": "python",
   "nbconvert_exporter": "python",
   "pygments_lexer": "ipython3",
   "version": "3.11.13"
  }
 },
 "nbformat": 4,
 "nbformat_minor": 5
}
