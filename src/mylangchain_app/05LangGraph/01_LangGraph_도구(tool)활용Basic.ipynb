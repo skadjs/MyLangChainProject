{
 "cells": [
  {
   "cell_type": "markdown",
   "metadata": {},
   "source": [
    "#### LangGraph에서 도구(tool) 활용 방법"
   ]
  },
  {
   "cell_type": "markdown",
   "metadata": {},
   "source": [
    "- 도구(tool)를 활용한 에이전트 개발 방법을 알아봅니다\n",
    "- workflow를 직접 선언하지 않고, 사용가능한 도구들을 전달하면, 에이전트가 적합한 도구를 판단해서 사용합니다\n",
    "    - 이번 회차에서는 `ToolNode`를 통해 도구를 활용하는 방법을 알아봅니다"
   ]
  },
  {
   "cell_type": "code",
   "execution_count": 1,
   "metadata": {},
   "outputs": [
    {
     "name": "stdout",
     "output_type": "stream",
     "text": [
      "sk\n",
      "24\n"
     ]
    }
   ],
   "source": [
    "from dotenv import load_dotenv\n",
    "import os\n",
    "# .env 파일을 불러와서 환경 변수로 설정\n",
    "load_dotenv()\n",
    "\n",
    "OPENAI_API_KEY = os.getenv(\"OPENAI_API_KEY\")\n",
    "print(OPENAI_API_KEY[:2])\n",
    "\n",
    "UPSTAGE_API_KEY = os.getenv(\"UPSTAGE_API_KEY\")\n",
    "print(UPSTAGE_API_KEY[30:])"
   ]
  },
  {
   "cell_type": "code",
   "execution_count": 2,
   "metadata": {},
   "outputs": [
    {
     "name": "stdout",
     "output_type": "stream",
     "text": [
      "gpt-3.5-turbo-0125\n"
     ]
    }
   ],
   "source": [
    "# from langchain_upstage import ChatUpstage\n",
    "# llm = ChatUpstage(\n",
    "#         model=\"solar-pro\",\n",
    "#         base_url=\"https://api.upstage.ai/v1\",\n",
    "#         temperature=0.5\n",
    "#     )\n",
    "# print(llm)\n",
    "\n",
    "from langchain_openai import ChatOpenAI\n",
    "llm = ChatOpenAI(\n",
    "    model='gpt-3.5-turbo-0125', \n",
    "    temperature=0,\n",
    ")\n",
    "print(llm.model_name)"
   ]
  },
  {
   "cell_type": "code",
   "execution_count": 3,
   "metadata": {},
   "outputs": [],
   "source": [
    "from langchain_core.tools import tool\n",
    "\n",
    "@tool\n",
    "def add(a: int, b: int) -> int:\n",
    "    \"\"\"숫자 a와 b를 더합니다.\"\"\"\n",
    "    return a + b\n",
    "\n",
    "@tool\n",
    "def multiply(a: int, b: int) -> int:\n",
    "    \"\"\"숫자 a와 b를 곱합니다.\"\"\"\n",
    "    return a * b"
   ]
  },
  {
   "cell_type": "markdown",
   "metadata": {},
   "source": [
    "- LangGraph는 `ToolNode`를 통해 도구를 활용합니다\n",
    "- `ToolNode`의 `invoke()`결과는 도구의 `invoke()` 결과와 유사합니다\n",
    "    - 도구는 도구의 실행 결과를 리턴하고, `ToolNode`는 도구의 실행 결과를 포함한 `ToolMessage`를 리턴합니다"
   ]
  },
  {
   "cell_type": "code",
   "execution_count": 4,
   "metadata": {},
   "outputs": [
    {
     "name": "stdout",
     "output_type": "stream",
     "text": [
      "<class 'langchain_core.runnables.base.RunnableBinding'>\n",
      "tools(tags=None, recurse=True, explode_args=False, func_accepts={'config': ('N/A', <class 'inspect._empty'>), 'store': ('store', None)}, tools_by_name={'add': StructuredTool(name='add', description='숫자 a와 b를 더합니다.', args_schema=<class 'langchain_core.utils.pydantic.add'>, func=<function add at 0x112c26660>), 'multiply': StructuredTool(name='multiply', description='숫자 a와 b를 곱합니다.', args_schema=<class 'langchain_core.utils.pydantic.multiply'>, func=<function multiply at 0x113494e00>)}, tool_to_state_args={'add': {}, 'multiply': {}}, tool_to_store_arg={'add': None, 'multiply': None}, handle_tool_errors=True, messages_key='messages')\n"
     ]
    }
   ],
   "source": [
    "from langgraph.prebuilt import ToolNode\n",
    "\n",
    "tool_list = [add, multiply]\n",
    "llm_with_tools = llm.bind_tools(tool_list)\n",
    "\n",
    "tool_node = ToolNode(tool_list)\n",
    "\n",
    "print(type(llm_with_tools))\n",
    "print(tool_node)"
   ]
  },
  {
   "cell_type": "code",
   "execution_count": 5,
   "metadata": {},
   "outputs": [
    {
     "name": "stdout",
     "output_type": "stream",
     "text": [
      "<class 'int'>\n"
     ]
    },
    {
     "data": {
      "text/plain": [
       "15"
      ]
     },
     "execution_count": 5,
     "metadata": {},
     "output_type": "execute_result"
    }
   ],
   "source": [
    "result = multiply.invoke({'a': 3, 'b': 5})\n",
    "\n",
    "print(type(result))\n",
    "result"
   ]
  },
  {
   "cell_type": "code",
   "execution_count": 6,
   "metadata": {},
   "outputs": [
    {
     "data": {
      "text/plain": [
       "AIMessage(content='', additional_kwargs={'tool_calls': [{'id': 'call_QX1E9kMD4aCJUp4Uy1GVjeJ4', 'function': {'arguments': '{\"a\":3,\"b\":5}', 'name': 'add'}, 'type': 'function'}], 'refusal': None}, response_metadata={'token_usage': {'completion_tokens': 17, 'prompt_tokens': 88, 'total_tokens': 105, 'completion_tokens_details': {'accepted_prediction_tokens': 0, 'audio_tokens': 0, 'reasoning_tokens': 0, 'rejected_prediction_tokens': 0}, 'prompt_tokens_details': {'audio_tokens': 0, 'cached_tokens': 0}}, 'model_name': 'gpt-3.5-turbo-0125', 'system_fingerprint': None, 'id': 'chatcmpl-CLVTBnDAPr4aUG0ccTKO4sEWhKe2u', 'service_tier': 'default', 'finish_reason': 'tool_calls', 'logprobs': None}, id='run--c8238201-b934-4ff2-9354-1711221a8cfc-0', tool_calls=[{'name': 'add', 'args': {'a': 3, 'b': 5}, 'id': 'call_QX1E9kMD4aCJUp4Uy1GVjeJ4', 'type': 'tool_call'}], usage_metadata={'input_tokens': 88, 'output_tokens': 17, 'total_tokens': 105, 'input_token_details': {'audio': 0, 'cache_read': 0}, 'output_token_details': {'audio': 0, 'reasoning': 0}})"
      ]
     },
     "execution_count": 6,
     "metadata": {},
     "output_type": "execute_result"
    }
   ],
   "source": [
    "ai_message = llm_with_tools.invoke('What is 3 plus 5?')\n",
    "ai_message"
   ]
  },
  {
   "cell_type": "code",
   "execution_count": 7,
   "metadata": {},
   "outputs": [
    {
     "data": {
      "text/plain": [
       "[{'name': 'add',\n",
       "  'args': {'a': 3, 'b': 5},\n",
       "  'id': 'call_QX1E9kMD4aCJUp4Uy1GVjeJ4',\n",
       "  'type': 'tool_call'}]"
      ]
     },
     "execution_count": 7,
     "metadata": {},
     "output_type": "execute_result"
    }
   ],
   "source": [
    "ai_message.tool_calls"
   ]
  },
  {
   "cell_type": "markdown",
   "metadata": {},
   "source": [
    "- `ToolNode`를 `invoke()`하려면 `tool_calls` 속성을 포함한 `AIMessage`를 전달해야 합니다"
   ]
  },
  {
   "cell_type": "code",
   "execution_count": 8,
   "metadata": {},
   "outputs": [
    {
     "name": "stdout",
     "output_type": "stream",
     "text": [
      "<class 'dict'>\n"
     ]
    },
    {
     "data": {
      "text/plain": [
       "{'messages': [ToolMessage(content='8', name='add', tool_call_id='call_QX1E9kMD4aCJUp4Uy1GVjeJ4')]}"
      ]
     },
     "execution_count": 8,
     "metadata": {},
     "output_type": "execute_result"
    }
   ],
   "source": [
    "tool_msg = tool_node.invoke({'messages': [ai_message]})\n",
    "\n",
    "print(type(tool_msg))\n",
    "tool_msg"
   ]
  },
  {
   "cell_type": "markdown",
   "metadata": {},
   "source": [
    "- 간단한 에이전트를 만들기 위해 LangGraph에서 제공하는 [`StateGraph`](https://langchain-ai.github.io/langgraph/concepts/low_level/#messagesstate)를 사용합니다"
   ]
  },
  {
   "cell_type": "code",
   "execution_count": 9,
   "metadata": {},
   "outputs": [],
   "source": [
    "from langgraph.graph import MessagesState, StateGraph\n",
    "\n",
    "graph_builder = StateGraph(MessagesState)"
   ]
  },
  {
   "cell_type": "code",
   "execution_count": 10,
   "metadata": {},
   "outputs": [],
   "source": [
    "def agent(state: MessagesState) -> MessagesState:\n",
    "    \"\"\"\n",
    "    에이전트 함수는 주어진 상태에서 메시지를 가져와\n",
    "    LLM과 도구를 사용하여 응답 메시지를 생성합니다.\n",
    "\n",
    "    Args:\n",
    "        state (MessagesState): 메시지 상태를 포함하는 state.\n",
    "\n",
    "    Returns:\n",
    "        MessagesState: 응답 메시지를 포함하는 새로운 state.\n",
    "    \"\"\"\n",
    "    # 상태에서 메시지를 추출합니다.\n",
    "    messages = state['messages']\n",
    "    \n",
    "    # LLM과 도구를 사용하여 메시지를 처리하고 응답을 생성합니다. (RunnableBinding)\n",
    "    response = llm_with_tools.invoke(messages)\n",
    "    \n",
    "    # 응답 메시지를 새로운 상태로 반환합니다.\n",
    "    return {'messages': [response]}"
   ]
  },
  {
   "cell_type": "code",
   "execution_count": 11,
   "metadata": {},
   "outputs": [],
   "source": [
    "from typing import Literal\n",
    "from langgraph.graph import END\n",
    "\n",
    "def should_continue(state: MessagesState) -> Literal['tools', END]:\n",
    "    \"\"\"\n",
    "    주어진 메시지 상태를 기반으로 에이전트가 계속 진행할지 여부를 결정합니다.\n",
    "\n",
    "    Args:\n",
    "        state (MessagesState): `state`를 포함하는 객체.\n",
    "\n",
    "    Returns:\n",
    "        Literal['tools', END]: 도구를 사용해야 하면 `tools`를 리턴하고, \n",
    "        답변할 준비가 되었다면 END를 반환해서 프로세스를 종료합니다.\n",
    "    \"\"\"\n",
    "    # 상태에서 메시지를 추출합니다.\n",
    "    messages = state['messages']\n",
    "    print(type(messages))\n",
    "    print(messages)\n",
    "    \n",
    "    # 마지막 AI 메시지를 가져옵니다.\n",
    "    last_ai_message = messages[-1]\n",
    "    \n",
    "    # 마지막 AI 메시지가 도구 호출을 포함하고 있는지 확인합니다.\n",
    "    if last_ai_message.tool_calls:\n",
    "        # 도구 호출이 있으면 'tools'를 반환합니다.\n",
    "        return 'tools'\n",
    "    \n",
    "    # 도구 호출이 없으면 END를 반환하여 프로세스를 종료합니다.\n",
    "    return END"
   ]
  },
  {
   "cell_type": "markdown",
   "metadata": {},
   "source": [
    "- `node`를 추가하고 `edge`로 연결합니다"
   ]
  },
  {
   "cell_type": "code",
   "execution_count": 12,
   "metadata": {},
   "outputs": [
    {
     "data": {
      "text/plain": [
       "{'agent': StateNodeSpec(runnable=agent(tags=None, recurse=True, explode_args=False, func_accepts={}), metadata=None, input_schema=<class 'langgraph.graph.message.MessagesState'>, retry_policy=None, cache_policy=None, ends=(), defer=False),\n",
       " 'tools': StateNodeSpec(runnable=tools(tags=None, recurse=True, explode_args=False, func_accepts={'config': ('N/A', <class 'inspect._empty'>), 'store': ('store', None)}, tools_by_name={'add': StructuredTool(name='add', description='숫자 a와 b를 더합니다.', args_schema=<class 'langchain_core.utils.pydantic.add'>, func=<function add at 0x112c26660>), 'multiply': StructuredTool(name='multiply', description='숫자 a와 b를 곱합니다.', args_schema=<class 'langchain_core.utils.pydantic.multiply'>, func=<function multiply at 0x113494e00>)}, tool_to_state_args={'add': {}, 'multiply': {}}, tool_to_store_arg={'add': None, 'multiply': None}, handle_tool_errors=True, messages_key='messages'), metadata=None, input_schema=<class 'langgraph.graph.message.MessagesState'>, retry_policy=None, cache_policy=None, ends=(), defer=False)}"
      ]
     },
     "execution_count": 12,
     "metadata": {},
     "output_type": "execute_result"
    }
   ],
   "source": [
    "graph_builder.add_node('agent', agent)\n",
    "#tool_node = ToolNode(tool_list)\n",
    "graph_builder.add_node('tools', tool_node)\n",
    "\n",
    "graph_builder.nodes"
   ]
  },
  {
   "cell_type": "code",
   "execution_count": 13,
   "metadata": {},
   "outputs": [
    {
     "data": {
      "text/plain": [
       "{('__start__', 'agent'), ('tools', 'agent')}"
      ]
     },
     "execution_count": 13,
     "metadata": {},
     "output_type": "execute_result"
    }
   ],
   "source": [
    "from langgraph.graph import START, END\n",
    "\n",
    "graph_builder.add_edge(START, 'agent')\n",
    "graph_builder.add_conditional_edges(\n",
    "    'agent',\n",
    "    should_continue,\n",
    "    ['tools', END]\n",
    ")\n",
    "graph_builder.add_edge('tools', 'agent')\n",
    "\n",
    "graph_builder.edges"
   ]
  },
  {
   "cell_type": "code",
   "execution_count": 14,
   "metadata": {},
   "outputs": [
    {
     "name": "stdout",
     "output_type": "stream",
     "text": [
      "<class 'langgraph.graph.state.CompiledStateGraph'>\n"
     ]
    },
    {
     "data": {
      "image/png": "[encoded data removed]",
      "text/plain": [
       "<langgraph.graph.state.CompiledStateGraph object at 0x1137a0c20>"
      ]
     },
     "execution_count": 14,
     "metadata": {},
     "output_type": "execute_result"
    }
   ],
   "source": [
    "graph= graph_builder.compile()\n",
    "print(type(graph))\n",
    "\n",
    "graph"
   ]
  },
  {
   "cell_type": "code",
   "execution_count": 15,
   "metadata": {},
   "outputs": [],
   "source": [
    "# from IPython.display import Image, display\n",
    "\n",
    "# display(Image(graph.get_graph().draw_mermaid_png()))"
   ]
  },
  {
   "cell_type": "code",
   "execution_count": 16,
   "metadata": {},
   "outputs": [
    {
     "name": "stdout",
     "output_type": "stream",
     "text": [
      "Mermaid Code:\n",
      "---\n",
      "config:\n",
      "  flowchart:\n",
      "    curve: linear\n",
      "---\n",
      "graph TD;\n",
      "\t__start__([<p>__start__</p>]):::first\n",
      "\tagent(agent)\n",
      "\ttools(tools)\n",
      "\t__end__([<p>__end__</p>]):::last\n",
      "\t__start__ --> agent;\n",
      "\tagent -.-> __end__;\n",
      "\tagent -.-> tools;\n",
      "\ttools --> agent;\n",
      "\tclassDef default fill:#f2f0ff,line-height:1.2\n",
      "\tclassDef first fill-opacity:0\n",
      "\tclassDef last fill:#bfb6fc\n",
      "\n"
     ]
    }
   ],
   "source": [
    "mermaid_code = graph.get_graph().draw_mermaid()\n",
    "print(\"Mermaid Code:\")\n",
    "print(mermaid_code)"
   ]
  },
  {
   "cell_type": "markdown",
   "metadata": {},
   "source": [
    "* https://mermaid.live/ 에서  mermain_code 로 직접 확인한다.\n"
   ]
  },
  {
   "cell_type": "markdown",
   "metadata": {},
   "source": [
    "- `graph.stream()`을 활용하면 에이전트가 답변을 생성하는 과정을 모니터링 할 수 있습니다"
   ]
  },
  {
   "cell_type": "code",
   "execution_count": 17,
   "metadata": {},
   "outputs": [
    {
     "name": "stdout",
     "output_type": "stream",
     "text": [
      "================================\u001b[1m Human Message \u001b[0m=================================\n",
      "\n",
      "3에다 5를 더하고 거기에 8을 곱하면?\n",
      "<class 'list'>\n",
      "[HumanMessage(content='3에다 5를 더하고 거기에 8을 곱하면?', additional_kwargs={}, response_metadata={}, id='eba365a5-8816-42a4-861c-dffaf0ec8429'), AIMessage(content='', additional_kwargs={'tool_calls': [{'id': 'call_afdWTE8iiZ1FCZMvzDWHnm2i', 'function': {'arguments': '{\"a\": 3, \"b\": 5}', 'name': 'add'}, 'type': 'function'}, {'id': 'call_rECr5n0wNaMx4MUPQqAAb7Oq', 'function': {'arguments': '{\"a\": 8, \"b\": 8}', 'name': 'multiply'}, 'type': 'function'}], 'refusal': None}, response_metadata={'token_usage': {'completion_tokens': 49, 'prompt_tokens': 103, 'total_tokens': 152, 'completion_tokens_details': {'accepted_prediction_tokens': 0, 'audio_tokens': 0, 'reasoning_tokens': 0, 'rejected_prediction_tokens': 0}, 'prompt_tokens_details': {'audio_tokens': 0, 'cached_tokens': 0}}, 'model_name': 'gpt-3.5-turbo-0125', 'system_fingerprint': None, 'id': 'chatcmpl-CLVTDgaBpsNFRKu6brET1IjTIj0BZ', 'service_tier': 'default', 'finish_reason': 'tool_calls', 'logprobs': None}, id='run--4dc8e62d-973a-4f92-bf2b-aac1310afa60-0', tool_calls=[{'name': 'add', 'args': {'a': 3, 'b': 5}, 'id': 'call_afdWTE8iiZ1FCZMvzDWHnm2i', 'type': 'tool_call'}, {'name': 'multiply', 'args': {'a': 8, 'b': 8}, 'id': 'call_rECr5n0wNaMx4MUPQqAAb7Oq', 'type': 'tool_call'}], usage_metadata={'input_tokens': 103, 'output_tokens': 49, 'total_tokens': 152, 'input_token_details': {'audio': 0, 'cache_read': 0}, 'output_token_details': {'audio': 0, 'reasoning': 0}})]\n",
      "==================================\u001b[1m Ai Message \u001b[0m==================================\n",
      "Tool Calls:\n",
      "  add (call_afdWTE8iiZ1FCZMvzDWHnm2i)\n",
      " Call ID: call_afdWTE8iiZ1FCZMvzDWHnm2i\n",
      "  Args:\n",
      "    a: 3\n",
      "    b: 5\n",
      "  multiply (call_rECr5n0wNaMx4MUPQqAAb7Oq)\n",
      " Call ID: call_rECr5n0wNaMx4MUPQqAAb7Oq\n",
      "  Args:\n",
      "    a: 8\n",
      "    b: 8\n",
      "=================================\u001b[1m Tool Message \u001b[0m=================================\n",
      "Name: multiply\n",
      "\n",
      "64\n",
      "<class 'list'>\n",
      "[HumanMessage(content='3에다 5를 더하고 거기에 8을 곱하면?', additional_kwargs={}, response_metadata={}, id='eba365a5-8816-42a4-861c-dffaf0ec8429'), AIMessage(content='', additional_kwargs={'tool_calls': [{'id': 'call_afdWTE8iiZ1FCZMvzDWHnm2i', 'function': {'arguments': '{\"a\": 3, \"b\": 5}', 'name': 'add'}, 'type': 'function'}, {'id': 'call_rECr5n0wNaMx4MUPQqAAb7Oq', 'function': {'arguments': '{\"a\": 8, \"b\": 8}', 'name': 'multiply'}, 'type': 'function'}], 'refusal': None}, response_metadata={'token_usage': {'completion_tokens': 49, 'prompt_tokens': 103, 'total_tokens': 152, 'completion_tokens_details': {'accepted_prediction_tokens': 0, 'audio_tokens': 0, 'reasoning_tokens': 0, 'rejected_prediction_tokens': 0}, 'prompt_tokens_details': {'audio_tokens': 0, 'cached_tokens': 0}}, 'model_name': 'gpt-3.5-turbo-0125', 'system_fingerprint': None, 'id': 'chatcmpl-CLVTDgaBpsNFRKu6brET1IjTIj0BZ', 'service_tier': 'default', 'finish_reason': 'tool_calls', 'logprobs': None}, id='run--4dc8e62d-973a-4f92-bf2b-aac1310afa60-0', tool_calls=[{'name': 'add', 'args': {'a': 3, 'b': 5}, 'id': 'call_afdWTE8iiZ1FCZMvzDWHnm2i', 'type': 'tool_call'}, {'name': 'multiply', 'args': {'a': 8, 'b': 8}, 'id': 'call_rECr5n0wNaMx4MUPQqAAb7Oq', 'type': 'tool_call'}], usage_metadata={'input_tokens': 103, 'output_tokens': 49, 'total_tokens': 152, 'input_token_details': {'audio': 0, 'cache_read': 0}, 'output_token_details': {'audio': 0, 'reasoning': 0}}), ToolMessage(content='8', name='add', id='41bb7273-71a0-4968-8275-fe9ad33558a3', tool_call_id='call_afdWTE8iiZ1FCZMvzDWHnm2i'), ToolMessage(content='64', name='multiply', id='02383a9d-7fc8-45dd-84f0-5d7f00720d35', tool_call_id='call_rECr5n0wNaMx4MUPQqAAb7Oq'), AIMessage(content='3에다 5를 더한 값은 8이고, 그 값에 8을 곱하면 64가 됩니다.', additional_kwargs={'refusal': None}, response_metadata={'token_usage': {'completion_tokens': 34, 'prompt_tokens': 168, 'total_tokens': 202, 'completion_tokens_details': {'accepted_prediction_tokens': 0, 'audio_tokens': 0, 'reasoning_tokens': 0, 'rejected_prediction_tokens': 0}, 'prompt_tokens_details': {'audio_tokens': 0, 'cached_tokens': 0}}, 'model_name': 'gpt-3.5-turbo-0125', 'system_fingerprint': None, 'id': 'chatcmpl-CLVTEEgA3huAX6Dztv5ZNN95qUyoV', 'service_tier': 'default', 'finish_reason': 'stop', 'logprobs': None}, id='run--1547a2e2-59b9-4bda-8942-9a8a9d39ffbe-0', usage_metadata={'input_tokens': 168, 'output_tokens': 34, 'total_tokens': 202, 'input_token_details': {'audio': 0, 'cache_read': 0}, 'output_token_details': {'audio': 0, 'reasoning': 0}})]\n",
      "==================================\u001b[1m Ai Message \u001b[0m==================================\n",
      "\n",
      "3에다 5를 더한 값은 8이고, 그 값에 8을 곱하면 64가 됩니다.\n"
     ]
    }
   ],
   "source": [
    "from langchain_core.messages import HumanMessage\n",
    "\n",
    "for chunk in graph.stream({'messages': [HumanMessage('3에다 5를 더하고 거기에 8을 곱하면?')]}, stream_mode='values'):\n",
    "    chunk['messages'][-1].pretty_print()"
   ]
  },
  {
   "cell_type": "markdown",
   "metadata": {},
   "source": [
    "#### LangGraph 내장 ReAct 에이전트 사용\n",
    "* create_react_agent()의 작동 방식\n",
    "    * create_react_agent() 함수 내부에서 이미 StateGraph와 필요한 노드(사고, 도구 실행, 응답 생성 등)를 자동으로 구성합니다."
   ]
  },
  {
   "cell_type": "code",
   "execution_count": 18,
   "metadata": {},
   "outputs": [
    {
     "name": "stdout",
     "output_type": "stream",
     "text": [
      "gpt-3.5-turbo-0125\n",
      "<class 'langgraph.graph.state.CompiledStateGraph'>\n",
      "{'messages': [HumanMessage(content='3+5는?', additional_kwargs={}, response_metadata={}, id='a8172587-bd97-411d-98df-7474e9f87f85'), AIMessage(content='', additional_kwargs={'tool_calls': [{'id': 'call_hg6mumy2Oq4X3dYXG7pfqDGU', 'function': {'arguments': '{\"a\":3,\"b\":5}', 'name': 'add2'}, 'type': 'function'}], 'refusal': None}, response_metadata={'token_usage': {'completion_tokens': 18, 'prompt_tokens': 58, 'total_tokens': 76, 'completion_tokens_details': {'accepted_prediction_tokens': 0, 'audio_tokens': 0, 'reasoning_tokens': 0, 'rejected_prediction_tokens': 0}, 'prompt_tokens_details': {'audio_tokens': 0, 'cached_tokens': 0}}, 'model_name': 'gpt-3.5-turbo-0125', 'system_fingerprint': None, 'id': 'chatcmpl-CLVTIuRgIQM2VoIb04Wp5SI81K5bw', 'service_tier': 'default', 'finish_reason': 'tool_calls', 'logprobs': None}, id='run--e79aa7d1-059e-4477-9f0a-cc9d13e27da5-0', tool_calls=[{'name': 'add2', 'args': {'a': 3, 'b': 5}, 'id': 'call_hg6mumy2Oq4X3dYXG7pfqDGU', 'type': 'tool_call'}], usage_metadata={'input_tokens': 58, 'output_tokens': 18, 'total_tokens': 76, 'input_token_details': {'audio': 0, 'cache_read': 0}, 'output_token_details': {'audio': 0, 'reasoning': 0}}), ToolMessage(content='8', name='add2', id='9a6aaf94-664a-4f18-a34d-85351f37f030', tool_call_id='call_hg6mumy2Oq4X3dYXG7pfqDGU'), AIMessage(content='3 + 5는 8입니다.', additional_kwargs={'refusal': None}, response_metadata={'token_usage': {'completion_tokens': 10, 'prompt_tokens': 85, 'total_tokens': 95, 'completion_tokens_details': {'accepted_prediction_tokens': 0, 'audio_tokens': 0, 'reasoning_tokens': 0, 'rejected_prediction_tokens': 0}, 'prompt_tokens_details': {'audio_tokens': 0, 'cached_tokens': 0}}, 'model_name': 'gpt-3.5-turbo-0125', 'system_fingerprint': None, 'id': 'chatcmpl-CLVTKTJ9qliU7kOd7HZUys78HJDmC', 'service_tier': 'default', 'finish_reason': 'stop', 'logprobs': None}, id='run--6b0f547e-0996-43ce-9ae0-63d5e3d9b216-0', usage_metadata={'input_tokens': 85, 'output_tokens': 10, 'total_tokens': 95, 'input_token_details': {'audio': 0, 'cache_read': 0}, 'output_token_details': {'audio': 0, 'reasoning': 0}})]}\n"
     ]
    }
   ],
   "source": [
    "from langgraph.prebuilt import create_react_agent\n",
    "from langchain.agents import tool\n",
    "\n",
    "from langchain_core.messages import HumanMessage\n",
    "from langchain_upstage import ChatUpstage\n",
    "\n",
    "# llm = ChatUpstage(\n",
    "#         model=\"solar-pro\",\n",
    "#         base_url=\"https://api.upstage.ai/v1\",\n",
    "#         temperature=0.5\n",
    "#     )\n",
    "# print(llm)\n",
    "\n",
    "from langchain_openai import ChatOpenAI\n",
    "llm = ChatOpenAI(\n",
    "    model='gpt-3.5-turbo-0125', \n",
    "    temperature=0,\n",
    ")\n",
    "print(llm.model_name)\n",
    "\n",
    "@tool\n",
    "def add2(a: int, b: int) -> int:\n",
    "    \"\"\"숫자 a와 b를 더합니다.\"\"\"\n",
    "    return a + b\n",
    "\n",
    "# 한 줄로 에이전트 생성 - 내부에서 StateGraph를 자동 구성\n",
    "\n",
    "agent = create_react_agent(model=llm, tools=[add2])\n",
    "print(type(agent))\n",
    "\n",
    "# 바로 사용 가능\n",
    "result = agent.invoke({\"messages\": [HumanMessage(content=\"3+5는?\")]})\n",
    "\n",
    "print(result)"
   ]
  },
  {
   "cell_type": "code",
   "execution_count": 19,
   "metadata": {},
   "outputs": [
    {
     "name": "stdout",
     "output_type": "stream",
     "text": [
      "gpt-3.5-turbo\n"
     ]
    }
   ],
   "source": [
    "from langgraph.prebuilt import create_react_agent\n",
    "from langchain_openai import ChatOpenAI\n",
    "from langchain.agents import tool\n",
    "from langchain_core.messages import HumanMessage\n",
    "\n",
    "# 더 복잡한 도구들 정의\n",
    "@tool\n",
    "def calculate_compound_interest(principal: float, rate: float, years: int) -> str:\n",
    "    \"\"\"원금, 이자율, 기간을 받아 복리 이자를 계산합니다.\"\"\"\n",
    "    amount = principal * (1 + rate/100) ** years\n",
    "    interest = amount - principal\n",
    "    return f\"{years}년 후 원리금: {amount:,.0f}원, 이자: {interest:,.0f}원\"\n",
    "\n",
    "@tool\n",
    "def calculate_tax(income: float) -> str:\n",
    "    \"\"\"연소득을 받아 간이 세액을 계산합니다.\"\"\"\n",
    "    if income <= 12000000:\n",
    "        tax = income * 0.06\n",
    "    elif income <= 46000000:\n",
    "        tax = 720000 + (income - 12000000) * 0.15\n",
    "    elif income <= 88000000:\n",
    "        tax = 5820000 + (income - 46000000) * 0.24\n",
    "    else:\n",
    "        tax = 15900000 + (income - 88000000) * 0.35\n",
    "    \n",
    "    return f\"예상 세액: {tax:,.0f}원, 세후 소득: {income - tax:,.0f}원\"\n",
    "\n",
    "@tool\n",
    "def get_weekday(date_str: str) -> str:\n",
    "    \"\"\"YYYY-MM-DD 형식의 날짜를 받아 요일을 반환합니다.\"\"\"\n",
    "    from datetime import datetime\n",
    "    date_obj = datetime.strptime(date_str, \"%Y-%m-%d\")\n",
    "    weekdays = [\"월요일\", \"화요일\", \"수요일\", \"목요일\", \"금요일\", \"토요일\", \"일요일\"]\n",
    "    return f\"{date_str}은 {weekdays[date_obj.weekday()]}입니다.\"\n",
    "\n",
    "# LLM 초기화\n",
    "llm = ChatOpenAI(model=\"gpt-3.5-turbo\")\n",
    "print(llm.model_name)\n",
    "\n",
    "# 도구 리스트\n",
    "tools_list = [calculate_compound_interest, calculate_tax, get_weekday]\n",
    "\n",
    "# ReAct 에이전트 생성\n",
    "agent = create_react_agent(model=llm, tools=tools_list)"
   ]
  },
  {
   "cell_type": "code",
   "execution_count": 20,
   "metadata": {},
   "outputs": [
    {
     "name": "stdout",
     "output_type": "stream",
     "text": [
      "\n",
      "질문: 1억원을 연 5% 복리로 10년 동안 예금하면 얼마가 될까?\n",
      "--------------------------------------------------\n",
      "답변: 1억원을 연 5% 복리로 10년 동안 예금하면 10년 후에 100,501,127원이 될 것입니다. 이 중 이자는 501,127원입니다.\n",
      "================================================================================\n",
      "\n",
      "질문: 연소득 5천만원일 때 내야 할 세금은 얼마야?\n",
      "--------------------------------------------------\n",
      "답변: 연소득 5천만원일 때 내야 할 세금은 6,780,000원이며, 세후 소득은 43,220,000원입니다.\n",
      "================================================================================\n",
      "\n",
      "질문: 2024-12-25은 무슨 요일이야?\n",
      "--------------------------------------------------\n",
      "답변: 2024년 12월 25일은 수요일입니다.\n",
      "================================================================================\n",
      "\n",
      "질문: 연소득 8천만원일 때 세금을 계산하고, 남은 돈을 연 4% 복리로 5년간 예금하면 얼마가 돼?\n",
      "--------------------------------------------------\n",
      "답변: 세금을 공제한 후 연소득 66,020,000원을 연 4% 복리로 5년간 예금하면 총 80,323,425원이 됩니다.\n",
      "================================================================================\n"
     ]
    }
   ],
   "source": [
    "\n",
    "# 복합적인 질문 테스트\n",
    "complex_questions = [\n",
    "    \"1억원을 연 5% 복리로 10년 동안 예금하면 얼마가 될까?\",\n",
    "    \"연소득 5천만원일 때 내야 할 세금은 얼마야?\",\n",
    "    \"2024-12-25은 무슨 요일이야?\",\n",
    "    \"연소득 8천만원일 때 세금을 계산하고, 남은 돈을 연 4% 복리로 5년간 예금하면 얼마가 돼?\"\n",
    "]\n",
    "\n",
    "for question in complex_questions:\n",
    "    print(f\"\\n질문: {question}\")\n",
    "    print(\"-\" * 50)\n",
    "    \n",
    "    result = agent.invoke({\"messages\": [HumanMessage(content=question)]})\n",
    "    response = result[\"messages\"][-1].content\n",
    "    \n",
    "    print(f\"답변: {response}\")\n",
    "    print(\"=\" * 80)"
   ]
  },
  {
   "cell_type": "code",
   "execution_count": 21,
   "metadata": {},
   "outputs": [
    {
     "name": "stdout",
     "output_type": "stream",
     "text": [
      "================================\u001b[1m Human Message \u001b[0m=================================\n",
      "\n",
      "1억원을 연 5% 복리로 10년 동안 예금하면 얼마가 될까?\n",
      "==================================\u001b[1m Ai Message \u001b[0m==================================\n",
      "Tool Calls:\n",
      "  calculate_compound_interest (call_Dc71na4vMY1TR3IIE1USeVey)\n",
      " Call ID: call_Dc71na4vMY1TR3IIE1USeVey\n",
      "  Args:\n",
      "    principal: 100000000\n",
      "    rate: 0.05\n",
      "    years: 10\n",
      "=================================\u001b[1m Tool Message \u001b[0m=================================\n",
      "Name: calculate_compound_interest\n",
      "\n",
      "10년 후 원리금: 100,501,127원, 이자: 501,127원\n",
      "==================================\u001b[1m Ai Message \u001b[0m==================================\n",
      "\n",
      "1억원을 연 5% 복리로 10년 동안 예금하면 10년 후에는 총 10,050,1127원이 됩니다. 이 중 이자는 501,127원입니다.\n",
      "================================\u001b[1m Human Message \u001b[0m=================================\n",
      "\n",
      "연소득 5천만원일 때 내야 할 세금은 얼마야?\n",
      "==================================\u001b[1m Ai Message \u001b[0m==================================\n",
      "Tool Calls:\n",
      "  calculate_tax (call_kxz97KaI9Mi0EhU06GEVu3Uq)\n",
      " Call ID: call_kxz97KaI9Mi0EhU06GEVu3Uq\n",
      "  Args:\n",
      "    income: 50000000\n",
      "=================================\u001b[1m Tool Message \u001b[0m=================================\n",
      "Name: calculate_tax\n",
      "\n",
      "예상 세액: 6,780,000원, 세후 소득: 43,220,000원\n",
      "==================================\u001b[1m Ai Message \u001b[0m==================================\n",
      "\n",
      "연소득 5천만원에 대한 간이 세액은 6,780,000원이며, 세후 소득은 43,220,000원입니다.\n",
      "================================\u001b[1m Human Message \u001b[0m=================================\n",
      "\n",
      "2024-12-25은 무슨 요일이야?\n",
      "==================================\u001b[1m Ai Message \u001b[0m==================================\n",
      "Tool Calls:\n",
      "  get_weekday (call_m8baXzRcRnZ6dmd50mAcSIU4)\n",
      " Call ID: call_m8baXzRcRnZ6dmd50mAcSIU4\n",
      "  Args:\n",
      "    date_str: 2024-12-25\n",
      "=================================\u001b[1m Tool Message \u001b[0m=================================\n",
      "Name: get_weekday\n",
      "\n",
      "2024-12-25은 수요일입니다.\n",
      "==================================\u001b[1m Ai Message \u001b[0m==================================\n",
      "\n",
      "2024년 12월 25일은 수요일입니다.\n",
      "================================\u001b[1m Human Message \u001b[0m=================================\n",
      "\n",
      "연소득 8천만원일 때 세금을 계산하고, 남은 돈을 연 4% 복리로 5년간 예금하면 얼마가 돼?\n",
      "==================================\u001b[1m Ai Message \u001b[0m==================================\n",
      "Tool Calls:\n",
      "  calculate_tax (call_xrRkYZGX67krUK7bNyxsrGLF)\n",
      " Call ID: call_xrRkYZGX67krUK7bNyxsrGLF\n",
      "  Args:\n",
      "    income: 80000000\n",
      "=================================\u001b[1m Tool Message \u001b[0m=================================\n",
      "Name: calculate_tax\n",
      "\n",
      "예상 세액: 13,980,000원, 세후 소득: 66,020,000원\n",
      "==================================\u001b[1m Ai Message \u001b[0m==================================\n",
      "Tool Calls:\n",
      "  calculate_compound_interest (call_fe5ETSXsSsyPTCgutMyElZgb)\n",
      " Call ID: call_fe5ETSXsSsyPTCgutMyElZgb\n",
      "  Args:\n",
      "    principal: 66020000\n",
      "    rate: 4\n",
      "    years: 5\n",
      "=================================\u001b[1m Tool Message \u001b[0m=================================\n",
      "Name: calculate_compound_interest\n",
      "\n",
      "5년 후 원리금: 80,323,425원, 이자: 14,303,425원\n",
      "==================================\u001b[1m Ai Message \u001b[0m==================================\n",
      "\n",
      "연소득 8천만원일 때 예상 세액은 13,980,000원이며, 세후 소득은 66,020,000원입니다. 이를 연 4% 복리로 5년간 예금하면 5년 후 원리금은 80,323,425원이며, 이자는 14,303,425원입니다.\n"
     ]
    }
   ],
   "source": [
    "complex_questions = [\n",
    "    \"1억원을 연 5% 복리로 10년 동안 예금하면 얼마가 될까?\",\n",
    "    \"연소득 5천만원일 때 내야 할 세금은 얼마야?\",\n",
    "    \"2024-12-25은 무슨 요일이야?\",\n",
    "    \"연소득 8천만원일 때 세금을 계산하고, 남은 돈을 연 4% 복리로 5년간 예금하면 얼마가 돼?\"\n",
    "]\n",
    "\n",
    "for question in complex_questions:\n",
    "    for chunk in agent.stream({'messages': [HumanMessage(content=question)]}, stream_mode='values'):\n",
    "        chunk['messages'][-1].pretty_print()"
   ]
  }
 ],
 "metadata": {
  "kernelspec": {
   "display_name": "faiss-env",
   "language": "python",
   "name": "python3"
  },
  "language_info": {
   "codemirror_mode": {
    "name": "ipython",
    "version": 3
   },
   "file_extension": ".py",
   "mimetype": "text/x-python",
   "name": "python",
   "nbconvert_exporter": "python",
   "pygments_lexer": "ipython3",
   "version": "3.13.5"
  }
 },
 "nbformat": 4,
 "nbformat_minor": 2
}
