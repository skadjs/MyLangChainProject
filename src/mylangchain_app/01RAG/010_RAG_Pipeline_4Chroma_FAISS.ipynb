{
 "cells": [
  {
   "cell_type": "markdown",
   "id": "1F5lTDp5UPf0",
   "metadata": {
    "id": "1F5lTDp5UPf0"
   },
   "source": [
    "### 1) 라이브러리 설치"
   ]
  },
  {
   "cell_type": "code",
   "execution_count": null,
   "id": "4cd87a33-0a37-461b-8f37-3c142e60b1f6",
   "metadata": {
    "id": "4cd87a33-0a37-461b-8f37-3c142e60b1f6"
   },
   "outputs": [],
   "source": [
    "#poetry add langchain_community chromadb"
   ]
  },
  {
   "cell_type": "markdown",
   "id": "55152049-e9e5-4952-8e19-409f58cf3ac9",
   "metadata": {
    "id": "55152049-e9e5-4952-8e19-409f58cf3ac9"
   },
   "source": [
    "### 2) OpenAI 인증키 설정\n",
    "https://openai.com/"
   ]
  },
  {
   "cell_type": "code",
   "execution_count": null,
   "id": "8484293a",
   "metadata": {},
   "outputs": [],
   "source": [
    "#!pip install python-dotenv"
   ]
  },
  {
   "cell_type": "code",
   "execution_count": 1,
   "id": "b76f68a8-4745-4377-8057-6090b87377d1",
   "metadata": {
    "id": "b76f68a8-4745-4377-8057-6090b87377d1"
   },
   "outputs": [
    {
     "name": "stdout",
     "output_type": "stream",
     "text": [
      "sk\n"
     ]
    }
   ],
   "source": [
    "from dotenv import load_dotenv\n",
    "import os\n",
    "# .env 파일을 불러와서 환경 변수로 설정\n",
    "load_dotenv()\n",
    "\n",
    "OPENAI_API_KEY = os.getenv(\"OPENAI_API_KEY\")\n",
    "print(OPENAI_API_KEY[:2])"
   ]
  },
  {
   "cell_type": "markdown",
   "id": "b4a9abc5",
   "metadata": {},
   "source": [
    "##### Chroma 간단한 예제\n",
    "* Chroma DB에 텍스트 파일을 저장하고 검색하는 코드"
   ]
  },
  {
   "cell_type": "code",
   "execution_count": null,
   "id": "d6f0430b",
   "metadata": {},
   "outputs": [],
   "source": [
    "import os\n",
    "from dotenv import load_dotenv\n",
    "from langchain_community.document_loaders import TextLoader  # 텍스트 파일 로더\n",
    "from langchain_openai.embeddings import OpenAIEmbeddings  # OpenAI 임베딩 사용\n",
    "from langchain.text_splitter import RecursiveCharacterTextSplitter  # 텍스트 분할기\n",
    "from langchain_chroma import Chroma  # 벡터 DB (Chroma) 사용\n",
    "\n",
    "\n",
    "# 2. 벡터 데이터베이스 저장 경로 설정\n",
    "DB_PATH = \"./db/chroma_db\"\n",
    "\n",
    "# 3. 텍스트 파일을 로드하고 문서를 분할하는 함수 정의\n",
    "def load_and_split_text(file_path, splitter):\n",
    "    \"\"\"\n",
    "    주어진 텍스트 파일을 로드한 후, 설정된 Splitter를 사용하여 문서를 나누는 함수.\n",
    "    \n",
    "    Args:\n",
    "        file_path (str): 로드할 파일 경로\n",
    "        splitter (RecursiveCharacterTextSplitter): 텍스트 분할기 객체\n",
    "\n",
    "    Returns:\n",
    "        list: 분할된 문서 리스트\n",
    "    \"\"\"\n",
    "    if not os.path.exists(file_path):\n",
    "        print(f\" 파일을 찾을 수 없습니다: {file_path}\")\n",
    "        return []\n",
    "    \n",
    "    try:\n",
    "        loader = TextLoader(file_path)  # 텍스트 파일 로드\n",
    "        return loader.load_and_split(splitter)  # 분할하여 반환\n",
    "    except Exception as e:\n",
    "        print(f\" 파일 로드 오류 ({file_path}): {e}\")\n",
    "        return []\n",
    "\n",
    "# 4. 텍스트 분할기 설정 (600자 단위로 나누고, 100자 겹침 포함)\n",
    "text_splitter = RecursiveCharacterTextSplitter(chunk_size=600, chunk_overlap=100)\n",
    "\n",
    "# 5. 두 개의 텍스트 파일 로드 및 분할\n",
    "split_doc1 = load_and_split_text(\"data/ai-terminology.txt\", text_splitter)\n",
    "split_doc2 = load_and_split_text(\"data/finance-terminology.txt\", text_splitter)\n",
    "\n",
    "# 6. 문서 개수 출력\n",
    "print(f\"AI 문서 개수: {len(split_doc1)}\")\n",
    "print(f\"금융 문서 개수: {len(split_doc2)}\")\n",
    "\n",
    "# 7. 모든 문서 합치기\n",
    "all_documents = split_doc1 + split_doc2\n",
    "\n",
    "# 8. Chroma 벡터 DB 생성 및 저장\n",
    "try:\n",
    "    persist_db = Chroma.from_documents(\n",
    "        documents=all_documents,\n",
    "        embedding=OpenAIEmbeddings(),  # OpenAI Embeddings 사용\n",
    "        persist_directory=DB_PATH,  # 벡터 DB 저장 위치 지정\n",
    "        collection_name=\"my_vector_db\",  # 데이터베이스 컬렉션 이름\n",
    "    )\n",
    "    print(\"Chroma 데이터베이스 저장 완료!\")\n",
    "except Exception as e:\n",
    "    print(f\" Chroma 데이터베이스 저장 오류: {e}\")\n",
    "\n",
    "# 9. 저장된 데이터 확인\n",
    "try:\n",
    "    retrieved_docs = persist_db.get()  # Chroma DB에서 데이터 조회\n",
    "    print(f\" 저장된 벡터 개수: {len(retrieved_docs['ids'])}, 타입 {type(retrieved_docs['ids'])}\")\n",
    "except Exception as e:\n",
    "    print(f\" 데이터 조회 오류: {e}\")\n",
    "\n",
    "# 10. 유사도 검색 함수 정의\n",
    "def search_query(query, k=2):\n",
    "    \"\"\"\n",
    "    사용자 입력(query)에 대해 가장 유사한 문서를 검색하는 함수.\n",
    "\n",
    "    Args:\n",
    "        query (str): 검색할 문장 (예: \"Transformer 개념 설명\")\n",
    "        k (int, optional): 검색할 문서 개수. Defaults to 2.\n",
    "\n",
    "    Returns:\n",
    "        None: 검색 결과를 출력\n",
    "    \"\"\"\n",
    "    try:\n",
    "        results = persist_db.similarity_search(query, k=k)  # 유사도 검색 수행\n",
    "        print(f\"\\n [Query]: {query}\\n\")\n",
    "        for i, doc in enumerate(results):\n",
    "            print(f\"🔹 [Result {i+1}]: {doc.page_content[:300]}...\\n\")  # 검색 결과 출력\n",
    "    except Exception as e:\n",
    "        print(f\" 검색 오류: {e}\")\n",
    "\n",
    "# 11. 검색 테스트 실행\n",
    "search_query(\"Transformer 에 대해 설명해줘\", k=2)\n",
    "search_query(\"Hedge Fund 에 대해 설명해줘?\", k=2)\n"
   ]
  },
  {
   "cell_type": "markdown",
   "id": "81fbd63b",
   "metadata": {},
   "source": [
    "##### FAISS 간단한 예제\n",
    "* FAISS DB에 텍스트 파일을 저장하고 검색하는 코드"
   ]
  },
  {
   "cell_type": "code",
   "execution_count": null,
   "id": "3e027701",
   "metadata": {},
   "outputs": [],
   "source": [
    "#!pip install langchain_community\n",
    "#!pip install langchain_ollama\n",
    "#!pip install faiss-cpu"
   ]
  },
  {
   "cell_type": "code",
   "execution_count": 2,
   "id": "218ba88a",
   "metadata": {},
   "outputs": [
    {
     "name": "stdout",
     "output_type": "stream",
     "text": [
      "AI 문서 개수: 19\n",
      "금융 문서 개수: 12\n"
     ]
    }
   ],
   "source": [
    "import os\n",
    "\n",
    "from langchain_community.document_loaders import TextLoader  # 텍스트 파일 로더\n",
    "from langchain.text_splitter import RecursiveCharacterTextSplitter  # 텍스트 분할기\n",
    "from langchain_community.vectorstores import FAISS  # 벡터 DB (FAISS) 사용\n",
    "from langchain_ollama import OllamaEmbeddings\n",
    "\n",
    "# 2. 벡터 데이터베이스 저장 경로 설정\n",
    "DB_PATH = \"./faiss_db\"\n",
    "\n",
    "# 3. 텍스트 파일을 로드하고 문서를 분할하는 함수 정의\n",
    "def load_and_split_text(file_path, splitter):\n",
    "    \"\"\"\n",
    "    주어진 텍스트 파일을 로드한 후, 설정된 Splitter를 사용하여 문서를 나누는 함수.\n",
    "\n",
    "    Args:\n",
    "        file_path (str): 로드할 파일 경로\n",
    "        splitter (RecursiveCharacterTextSplitter): 텍스트 분할기 객체\n",
    "\n",
    "    Returns:\n",
    "        list: 분할된 문서 리스트\n",
    "    \"\"\"\n",
    "    if not os.path.exists(file_path):\n",
    "        print(f\" 파일을 찾을 수 없습니다: {file_path}\")\n",
    "        return []\n",
    "    \n",
    "    try:\n",
    "        loader = TextLoader(file_path, encoding=\"utf-8\")  # 텍스트 파일 로드\n",
    "        return loader.load_and_split(splitter)  # 분할하여 반환\n",
    "    except Exception as e:\n",
    "        print(f\" 파일 로드 오류 ({file_path}): {e}\")\n",
    "        return []\n",
    "\n",
    "# 4. 텍스트 분할기 설정 (600자 단위로 나누고, 100자 겹침 포함)\n",
    "text_splitter = RecursiveCharacterTextSplitter(chunk_size=256, chunk_overlap=30)\n",
    "\n",
    "# 5. 두 개의 텍스트 파일 로드 및 분할\n",
    "split_doc1 = load_and_split_text(\"../data/ai-terminology.txt\", text_splitter)\n",
    "split_doc2 = load_and_split_text(\"../data/finance-terminology.txt\", text_splitter)\n",
    "\n",
    "# 6. 문서 개수 출력\n",
    "print(f\"AI 문서 개수: {len(split_doc1)}\")\n",
    "print(f\"금융 문서 개수: {len(split_doc2)}\")\n"
   ]
  },
  {
   "cell_type": "code",
   "execution_count": 3,
   "id": "f6c371fd",
   "metadata": {},
   "outputs": [
    {
     "name": "stdout",
     "output_type": "stream",
     "text": [
      "FAISS 데이터베이스 저장 완료!\n",
      " 저장된 벡터 개수: 31\n",
      " 벡터 차원: 1024\n",
      " 인덱스 타입: <class 'faiss.swigfaiss.IndexFlatL2'>\n"
     ]
    }
   ],
   "source": [
    "# 7. 모든 문서 합치기\n",
    "all_documents = split_doc1 + split_doc2\n",
    "\n",
    "# 8. FAISS 벡터 DB 생성 및 저장\n",
    "try:\n",
    "    ollamaEmbeddings = OllamaEmbeddings(model=\"bge-m3:latest\")\n",
    "\n",
    "    # FAISS 벡터 DB 생성\n",
    "    persist_db = FAISS.from_documents(\n",
    "        documents=all_documents,\n",
    "        embedding=ollamaEmbeddings,\n",
    "    )\n",
    "    \n",
    "    # 로컬 디스크에 저장\n",
    "    if not os.path.exists(DB_PATH):\n",
    "        os.makedirs(DB_PATH)\n",
    "    persist_db.save_local(DB_PATH)\n",
    "    \n",
    "    print(\"FAISS 데이터베이스 저장 완료!\")\n",
    "except Exception as e:\n",
    "    print(f\" FAISS 데이터베이스 저장 오류: {e}\")\n",
    "\n",
    "# 9. 저장된 데이터 확인\n",
    "try:\n",
    "    # FAISS에서 인덱스 정보 확인\n",
    "    print(f\" 저장된 벡터 개수: {persist_db.index.ntotal}\")\n",
    "    print(f\" 벡터 차원: {persist_db.index.d}\")\n",
    "    print(f\" 인덱스 타입: {type(persist_db.index)}\")\n",
    "except Exception as e:\n",
    "    print(f\" 데이터 조회 오류: {e}\")"
   ]
  },
  {
   "cell_type": "code",
   "execution_count": 4,
   "id": "7055bd32",
   "metadata": {},
   "outputs": [
    {
     "name": "stdout",
     "output_type": "stream",
     "text": [
      "AI 용어 =================\n",
      "\n",
      " [Query]: Embedding 에 대해 설명해줘\n",
      "\n",
      "[Result 1]: Embedding (임베딩)\n",
      "\n",
      "정의: 단어나 문장을 벡터 공간에 매핑하여 의미적으로 유사한 것들이 가까이 위치하도록 하는 기법.\n",
      "예시: \"강아지\"와 \"고양이\"의 벡터 표현이 유사하게 위치함.\n",
      "연관 키워드: 벡터화, 자연어 처리, 딥러닝\n",
      "\n",
      "Token (토큰)...\n",
      "\n",
      "[Result 2]: 정의: FAISS는 페이스북에서 개발한 고속 유사성 검색 라이브러리로, 특히 대규모 벡터 집합에서 유사 벡터를 효과적으로 검색할 수 있도록 설계되었습니다.\n",
      "예시: 수백만 개의 이미지 벡터 중에서 비슷한 이미지를 빠르게 찾는 데 FAISS가 사용될 수 있습니다.\n",
      "연관키워드: 벡터 검색, 머신러닝, 데이터베이스 최적화\n",
      "\n",
      "Embedding (임베딩)...\n",
      "\n",
      "[Result 3]: 정의: 보상을 극대화하는 방향으로 행동을 학습하는 AI 기법.\n",
      "예시: 알파고가 바둑에서 최적의 수를 찾기 위해 강화 학습을 활용.\n",
      "연관 키워드: 보상 시스템, 정책 학습, 게임 AI\n",
      "\n",
      "Prompt Engineering (프롬프트 엔지니어링)\n",
      "\n",
      "정의: AI 모델이 원하는 출력을 생성하도록 입력을 최적화하는 기술.\n",
      "예시: \"한 문장으로 요약해줘\"라는 입력을 통해 짧은 답변을 유도.\n",
      "연관 키워드: 자연어 생성, GPT, 입력 최적화...\n",
      "\n",
      "Finance 용어 =================\n",
      "\n",
      " [Query]: Hedge Fund 에 대해 설명해줘\n",
      "\n",
      "[Result 1]: Hedge Fund (헤지펀드)\n",
      "\n",
      "정의: 공격적인 투자 전략을 사용하여 높은 수익을 추구하는 투자 펀드.\n",
      "예시: 헤지펀드는 공매도, 레버리지 등 다양한 전략을 활용함.\n",
      "연관 키워드: 고위험 투자, 적극적 운용, 레버리지\n",
      "\n",
      "Asset Allocation (자산 배분)\n",
      "\n",
      "정의: 투자 포트폴리오에서 주식, 채권, 현금 등 다양한 자산을 배분하는 전략.\n",
      "예시: 연령대별로 적절한 자산 배분 전략이 필요함.\n",
      "연관 키워드: 리스크 관리, 투자 전략, 포트폴리오...\n",
      "\n",
      "[Result 2]: Blue Chip Stocks (우량주)\n",
      "\n",
      "정의: 시장에서 안정적이고 신뢰받는 대형 기업의 주식.\n",
      "예시: 마이크로소프트와 애플은 대표적인 블루칩 주식임.\n",
      "연관 키워드: 장기 투자, 안정성, 대형주\n",
      "\n",
      "Mutual Fund (뮤추얼 펀드)\n",
      "\n",
      "정의: 여러 투자자의 자금을 모아 다양한 자산에 투자하는 펀드.\n",
      "예시: 뮤추얼 펀드는 분산 투자로 위험을 줄이는 데 도움을 줌.\n",
      "연관 키워드: 간접 투자, 포트폴리오, 펀드 매니저\n",
      "\n",
      "Hedge Fund (헤지펀드)...\n",
      "\n",
      "[Result 3]: ETF (상장지수펀드)\n",
      "\n",
      "정의: 주식처럼 거래되는 펀드로, 특정 지수를 추종함.\n",
      "예시: S&P 500 ETF는 미국 대형주 시장을 반영함.\n",
      "연관 키워드: 간접 투자, 분산 투자, 지수 투자\n",
      "\n",
      "Short Selling (공매도)\n",
      "\n",
      "정의: 주가 하락을 예상하고 주식을 빌려 매도한 후, 가격이 하락하면 싼 가격에 다시 매입하여 차익을 얻는 투자 기법.\n",
      "예시: 헤지펀드들은 종종 공매도를 활용하여 수익을 창출함.\n",
      "연관 키워드: 하락 베팅, 위험 관리, 레버리지...\n",
      "\n"
     ]
    }
   ],
   "source": [
    "# 10. 유사도 검색 함수 정의\n",
    "def search_query(query, k=5):\n",
    "    \"\"\"\n",
    "    사용자 입력(query)에 대해 가장 유사한 문서를 검색하는 함수.\n",
    "\n",
    "    Args:\n",
    "        query (str): 검색할 문장 (예: \"Transformer 개념 설명\")\n",
    "        k (int, optional): 검색할 문서 개수. Defaults to 2.\n",
    "\n",
    "    Returns:\n",
    "        None: 검색 결과를 출력\n",
    "    \"\"\"\n",
    "    try:\n",
    "        results = persist_db.similarity_search(query, k=k)  # 유사도 검색 수행\n",
    "        print(f\"\\n [Query]: {query}\\n\")\n",
    "        for i, doc in enumerate(results):\n",
    "            print(f\"[Result {i+1}]: {doc.page_content[:300]}...\\n\")  # 검색 결과 출력\n",
    "    except Exception as e:\n",
    "        print(f\" 검색 오류: {e}\")\n",
    "\n",
    "# 11. 검색 테스트 실행\n",
    "print('AI 용어 =================')\n",
    "search_query(\"Embedding 에 대해 설명해줘\", k=3)\n",
    "print('Finance 용어 =================')\n",
    "search_query(\"Hedge Fund 에 대해 설명해줘\", k=3)\n"
   ]
  },
  {
   "cell_type": "code",
   "execution_count": 5,
   "id": "4585881f",
   "metadata": {},
   "outputs": [
    {
     "name": "stdout",
     "output_type": "stream",
     "text": [
      "\n",
      "==================================================\n",
      "저장된 FAISS DB 로드 테스트\n",
      "==================================================\n",
      "FAISS 데이터베이스 로드 완료!\n",
      "로드된 벡터 개수: 31\n",
      "\n",
      "로드된 DB 검색 결과: Few-shot Learning (퓨샷 학습)\n",
      "\n",
      "정의: 적은 양의 데이터로도 새로운 작업을 수행할 수 있도록 하는 학습 방법.\n",
      "예시: ChatGPT가 몇 개의 예제만으로도 새로운 질문에 적절한 답을 생성함.\n",
      "연관 키워드: 샘플 효율성, 전이 학습, 메타 학습\n",
      "\n",
      "Reinforcement Learning (강화 학습)...\n"
     ]
    }
   ],
   "source": [
    "# 12. 저장된 FAISS DB 로드 테스트\n",
    "print(\"\\n\" + \"=\"*50)\n",
    "print(\"저장된 FAISS DB 로드 테스트\")\n",
    "print(\"=\"*50)\n",
    "\n",
    "try:\n",
    "    ollamaEmbeddings = OllamaEmbeddings(model=\"bge-m3:latest\")\n",
    "    # 저장된 FAISS DB 로드\n",
    "    loaded_db = FAISS.load_local(\n",
    "        DB_PATH, \n",
    "        ollamaEmbeddings,\n",
    "        allow_dangerous_deserialization=True\n",
    "    )\n",
    "    print(\"FAISS 데이터베이스 로드 완료!\")\n",
    "    \n",
    "    # 로드된 DB로 검색 테스트\n",
    "    print(f\"로드된 벡터 개수: {loaded_db.index.ntotal}\")\n",
    "    \n",
    "    # 검색 테스트\n",
    "    test_results = loaded_db.similarity_search(\"학습에는 어떤것들이 있나요?\", k=3)\n",
    "    print(f\"\\n로드된 DB 검색 결과: {test_results[0].page_content[:300]}...\")\n",
    "    \n",
    "except Exception as e:\n",
    "    print(f\"FAISS DB 로드 오류: {e}\")\n"
   ]
  },
  {
   "cell_type": "markdown",
   "id": "1e78988a",
   "metadata": {},
   "source": [
    "* [k-최근접이웃 알고리즘](https://ko.wikipedia.org/wiki/K-%EC%B5%9C%EA%B7%BC%EC%A0%91_%EC%9D%B4%EC%9B%83_%EC%95%8C%EA%B3%A0%EB%A6%AC%EC%A6%98)\n",
    "* FAISS에서 similarity_search_with_score() 함수의 점수는 실제로는 **거리(distance)**를 나타냅니다.\n",
    "    * 낮은 점수 = 더 유사함 (거리가 가까움)\n",
    "    : Result 1 (Score: 0.3795) → 더 유사한 결과\n",
    "    * 높은 점수 = 덜 유사함 (거리가 멀음)\n",
    "    : Result 2 (Score: 0.4341) → 덜 유사한 결과"
   ]
  },
  {
   "cell_type": "code",
   "execution_count": null,
   "id": "13183274",
   "metadata": {},
   "outputs": [],
   "source": [
    "# 13. 유사도 점수와 함께 검색\n",
    "print(\"\\n\" + \"=\"*50)\n",
    "print(\"유사도 점수와 함께 검색\")\n",
    "print(\"=\"*50)\n",
    "\n",
    "def search_with_score(query, k=5):\n",
    "    \"\"\"\n",
    "    유사도 점수와 함께 검색하는 함수\n",
    "    \"\"\"\n",
    "    try:\n",
    "        results = persist_db.similarity_search_with_score(query, k=k)\n",
    "        print(f\"\\n [Query]: {query}\\n\")\n",
    "        for i, (doc, score) in enumerate(results):\n",
    "            print(f\"[Result {i+1}] (Score: {score:.4f}):\")\n",
    "            print(f\"{doc.page_content[:500]}...\\n\")\n",
    "    except Exception as e:\n",
    "        print(f\" 점수 검색 오류: {e}\")\n",
    "\n",
    "# 점수와 함께 검색 테스트\n",
    "search_with_score(\"학습에는 어떤것들이 있나요?\", k=5)\n"
   ]
  },
  {
   "cell_type": "code",
   "execution_count": 12,
   "id": "ec4fa42c",
   "metadata": {},
   "outputs": [
    {
     "name": "stdout",
     "output_type": "stream",
     "text": [
      "\n",
      "==================================================\n",
      "FAISS 인덱스 상세 정보\n",
      "==================================================\n",
      "인덱스 타입: IndexFlatL2\n",
      "총 벡터 수: 31\n",
      "벡터 차원: 1024\n",
      "훈련 여부: True\n",
      "메트릭 타입: 1\n",
      "추정 메모리 사용량: 0.12 MB\n"
     ]
    }
   ],
   "source": [
    "# 14. FAISS 인덱스 정보 출력\n",
    "print(\"\\n\" + \"=\"*50)\n",
    "print(\"FAISS 인덱스 상세 정보\")\n",
    "print(\"=\"*50)\n",
    "\n",
    "try:\n",
    "    index = persist_db.index\n",
    "    print(f\"인덱스 타입: {type(index).__name__}\")\n",
    "    print(f\"총 벡터 수: {index.ntotal}\")\n",
    "    print(f\"벡터 차원: {index.d}\")\n",
    "    print(f\"훈련 여부: {index.is_trained}\")\n",
    "    print(f\"메트릭 타입: {index.metric_type}\")\n",
    "    \n",
    "    # 메모리 사용량 (추정)\n",
    "    memory_usage = index.ntotal * index.d * 4 / (1024 * 1024)  # 4 bytes per float, MB 단위\n",
    "    print(f\"추정 메모리 사용량: {memory_usage:.2f} MB\")\n",
    "    \n",
    "except Exception as e:\n",
    "    print(f\"인덱스 정보 조회 오류: {e}\")"
   ]
  }
 ],
 "metadata": {
  "colab": {
   "provenance": []
  },
  "kernelspec": {
   "display_name": "faiss-env",
   "language": "python",
   "name": "python3"
  },
  "language_info": {
   "codemirror_mode": {
    "name": "ipython",
    "version": 3
   },
   "file_extension": ".py",
   "mimetype": "text/x-python",
   "name": "python",
   "nbconvert_exporter": "python",
   "pygments_lexer": "ipython3",
   "version": "3.13.5"
  }
 },
 "nbformat": 4,
 "nbformat_minor": 5
}
