{
 "cells": [
  {
   "cell_type": "markdown",
   "metadata": {},
   "source": [
    "#### 1. 패키지 설치"
   ]
  },
  {
   "cell_type": "code",
   "execution_count": 1,
   "metadata": {},
   "outputs": [],
   "source": [
    "# poetry add langchain-ollama"
   ]
  },
  {
   "cell_type": "markdown",
   "metadata": {},
   "source": [
    "#### 로컬 Ollama로 설치한 deepseek-r1:1.5b 모델을 사용하기\n",
    "##### ollama run deepseek-r1:1.5b"
   ]
  },
  {
   "cell_type": "code",
   "execution_count": 8,
   "metadata": {},
   "outputs": [
    {
     "name": "stdout",
     "output_type": "stream",
     "text": [
      "<class 'dict'>\n",
      "{'question': 'What is LangChain?', 'text': '<think>\\n\\n</think>\\n\\nLangChain is a machine learning framework that simplifies the creation of language models. It provides an intuitive API for defining tasks, training models, and deploying them in a single place. The framework allows users to define complex tasks as \"chains\" of simpler subtasks or commands, making it easier to work with large language models.\\n\\nKey features of LangChain include:\\n1. **API**: A high-level, modular interface that abstracts the complexities of training language models.\\n2. **Task Definitions**: Users can define tasks such as text classification, question answering, summarization, and more by specifying subtasks within a \"chain.\"\\n3. **Model Training**: The framework supports parallel model training across multiple devices or datasets.\\n4. **Deployment**: It simplifies the deployment of trained models to production environments.\\n\\nLangChain is often used for natural language processing (NLP) tasks but can also be applied to other areas where sequence modeling is relevant, such as chemistry, physics, and biology.\\n\\nFor more detailed information, you can refer to the official documentation or relevant tutorials on the LangChain website.'}\n",
      "<think>\n",
      "\n",
      "</think>\n",
      "\n",
      "LangChain is a machine learning framework that simplifies the creation of language models. It provides an intuitive API for defining tasks, training models, and deploying them in a single place. The framework allows users to define complex tasks as \"chains\" of simpler subtasks or commands, making it easier to work with large language models.\n",
      "\n",
      "Key features of LangChain include:\n",
      "1. **API**: A high-level, modular interface that abstracts the complexities of training language models.\n",
      "2. **Task Definitions**: Users can define tasks such as text classification, question answering, summarization, and more by specifying subtasks within a \"chain.\"\n",
      "3. **Model Training**: The framework supports parallel model training across multiple devices or datasets.\n",
      "4. **Deployment**: It simplifies the deployment of trained models to production environments.\n",
      "\n",
      "LangChain is often used for natural language processing (NLP) tasks but can also be applied to other areas where sequence modeling is relevant, such as chemistry, physics, and biology.\n",
      "\n",
      "For more detailed information, you can refer to the official documentation or relevant tutorials on the LangChain website.\n"
     ]
    }
   ],
   "source": [
    "from langchain.llms import Ollama\n",
    "from langchain.prompts import PromptTemplate\n",
    "from langchain.chains import LLMChain\n",
    "\n",
    "# Ollama를 사용하여 로컬에서 실행 중인 deepseek-r1 모델을 로드\n",
    "llm = Ollama(model=\"deepseek-r1:1.5b\")\n",
    "\n",
    "# 프롬프트 템플릿 정의\n",
    "prompt_template = PromptTemplate(\n",
    "    input_variables=[\"question\"],\n",
    "    template=\"Q: {question}\\nA:\"\n",
    ")\n",
    "\n",
    "# LLMChain 생성\n",
    "chain = LLMChain(llm=llm, prompt=prompt_template)\n",
    "\n",
    "# 질문을 입력하고 모델의 응답을 받음\n",
    "question = \"What is LangChain?\"\n",
    "response = chain.invoke({\"question\": question})\n",
    "\n",
    "# 결과 출력\n",
    "print(type(response))\n",
    "print(response)\n",
    "print(response[\"text\"])"
   ]
  },
  {
   "cell_type": "markdown",
   "metadata": {},
   "source": [
    "##### 최신버전 LangChain에서는 ChatOllama와 RunnableSequence(prompt | llm) 를 사용"
   ]
  },
  {
   "cell_type": "code",
   "execution_count": 9,
   "metadata": {},
   "outputs": [
    {
     "name": "stdout",
     "output_type": "stream",
     "text": [
      "<class 'langchain_core.messages.ai.AIMessage'>\n",
      "content='<think>\\nOkay, so the user just asked \"What is Python?\" and I responded with a bunch of stuff about what it is, but now they\\'re asking for more details. Hmm, maybe they want a deeper explanation or some information that goes beyond the basic introduction.\\n\\nI should figure out if there\\'s more context they need. Are they looking for technical details like its programming language aspects, syntax rules, or why it\\'s important in computer science? Or maybe they\\'re trying to learn by example and just want more examples of how it works?\\n\\nLet me think about the information I have. Python is a high-level programming language known for being easy to read and write, especially because it has a large and active developer community. It\\'s great for scripting, web development, data analysis, and more.\\n\\nI should structure my response clearly, maybe listing some key aspects in sections like history, features, applications, syntax, and why it\\'s important. That way, the user can follow each section as they learn.\\n\\nWait, I also remember that Python uses a mix of object-oriented and functional programming paradigms, which is something to note if they\\'re into different programming styles. Also, there are modules and libraries that make it very powerful for specific tasks like web development with Flask or data manipulation with Pandas.\\n\\nI should make sure the response is comprehensive but not overwhelming. It\\'s better to start with a basic overview since they might not be familiar with the term \"Python.\" Breaking down each section will help them understand each part of how Python works and why it\\'s significant in various areas of computer science.\\n</think>\\n\\nSure! Here’s a more detailed explanation about Python:\\n\\n### What is Python?\\n\\nPython is a high-level programming language that is widely used for a variety of purposes, including web development, data analysis, machine learning, scientific computing, and more. It was created in 1980 by Brian McGetter and John Keck at the University of Michigan. The name \"Python\" comes from its full name, with \"i\" as the last letter capitalized.\\n\\n### Why is Python Used?\\n\\n- **Interpretation vs. compilation**: Unlike C or Java, where you compile your code into machine language before running it, Python is an interpreted language. This means that the computer doesn\\'t take your code and compile it into efficient machine-level instructions; instead, Python parses and executes your code as-is.\\n\\n- **Simplicity and Readability**: Python\\'s syntax is very simple, which makes it easier to read and understand. It uses indentation blocks (like if statements) without the need for curly braces like in other languages. This simplicity often leads to more readable code despite being less compact than some other languages.\\n\\n### Key Features of Python\\n\\n- **Object-Oriented Programming**: Python supports object-oriented programming, which means you can create objects that have data members and methods for manipulating them. These are very flexible and widely used for many types of tasks.\\n\\n- **Functional Programming**: Python also supports functional programming style through the use of map(), filter(), and reduce() functions.\\n\\n- **Third-Party Libraries**: Python has a vast ecosystem of third-party libraries (called modules) that extend its functionality. Examples include NumPy, Pandas, Matplotlib for data analysis, Flask for web development, Scikit-learn for machine learning, and many more.\\n\\n- **Community-Wide Development**: Python is developed by an open-source community, which allows for constant improvements through contributions from users worldwide.\\n\\n### Syntax of Python\\n\\nPython\\'s syntax can be tricky at first because it has a mix of object-oriented and functional programming paradigms. Here are some examples:\\n\\n1. **Basic Conditional Statements**:\\n   ```python\\n   if x > y:\\n       print(\"x is greater than y\")\\n   ```\\n\\n2. **Loops**:\\n   ```python\\n   for i in range(5):\\n       print(i)\\n   ```\\n\\n3. **List and Tuples**:\\n   ```python\\n   numbers = [1, 2, 3]\\n   my_tuple = (4, 5, 6)\\n   print(numbers[2])  # Output: 3\\n   print(my_tuple)    # Output: (4,5,6)\\n   ```\\n\\n4. **Classes**:\\n   ```python\\n   class Square:\\n       def __init__(self):\\n           self.size = 10\\n       def area(self):\\n           return self.size * self.size\\n\\n   square = Square()\\n   print(square.area())  # Output: 100\\n   ```\\n\\n### Why is Python Important?\\n\\n- **Versatility**: Python can be used for almost any programming task. It\\'s been the go-to language for many areas, including web development with Flask, data analysis with Pandas, and even machine learning with Scikit-learn.\\n\\n- **Cross-Domain Use**: Its versatility allows developers across different fields to use it effectively.\\n\\n- **Community Support**: The open-source nature means that there are always new features being added by the community, making Python a rapidly evolving language.\\n\\n### Conclusion\\n\\nPython is a versatile and powerful programming language that has become a cornerstone of modern software development. Whether you\\'re building web applications, processing data, or developing machine learning models, Python\\'s flexibility and simplicity make it an excellent choice for many tasks.' additional_kwargs={} response_metadata={'model': 'deepseek-r1:1.5b', 'created_at': '2025-09-23T04:58:32.704661Z', 'done': True, 'done_reason': 'stop', 'total_duration': 16129071666, 'load_duration': 60082625, 'prompt_eval_count': 24, 'prompt_eval_duration': 115801792, 'eval_count': 1079, 'eval_duration': 15952487708, 'model_name': 'deepseek-r1:1.5b'} id='run--3a6dbe51-ecb2-4303-bcd7-d3f554b4183a-0' usage_metadata={'input_tokens': 24, 'output_tokens': 1079, 'total_tokens': 1103}\n"
     ]
    }
   ],
   "source": [
    "from langchain_ollama import ChatOllama\n",
    "from langchain_core.prompts import ChatPromptTemplate\n",
    "\n",
    "# Ollama를 사용하여 로컬에서 실행 중인 llama3.2 모델 로드\n",
    "llm = ChatOllama(model=\"deepseek-r1:1.5b\")\n",
    "\n",
    "# 프롬프트 템플릿 정의\n",
    "# prompt_template = PromptTemplate.from_template(\"Q: {question}\\nA:\")\n",
    "\n",
    "# 더 정확한 응답을 위한 개선된 프롬프트\n",
    "prompt_template = ChatPromptTemplate.from_messages([\n",
    "    (\"system\", \"You are an AI assistant that provides accurate and detailed answers.\"),\n",
    "    (\"human\", \"Q: {question}\\nA:\")\n",
    "])\n",
    "\n",
    "# 최신 LangChain 방식: RunnableSequence 활용\n",
    "chain = prompt_template | llm\n",
    "\n",
    "# 실행 예시\n",
    "question = \"What is Pyhon?\"\n",
    "response = chain.invoke({\"question\": question})\n",
    "\n",
    "print(type(response))\n",
    "print(response)"
   ]
  },
  {
   "cell_type": "code",
   "execution_count": 10,
   "metadata": {},
   "outputs": [
    {
     "name": "stdout",
     "output_type": "stream",
     "text": [
      "<think>\n",
      "Okay, so the user just asked \"What is Python?\" and I responded with a bunch of stuff about what it is, but now they're asking for more details. Hmm, maybe they want a deeper explanation or some information that goes beyond the basic introduction.\n",
      "\n",
      "I should figure out if there's more context they need. Are they looking for technical details like its programming language aspects, syntax rules, or why it's important in computer science? Or maybe they're trying to learn by example and just want more examples of how it works?\n",
      "\n",
      "Let me think about the information I have. Python is a high-level programming language known for being easy to read and write, especially because it has a large and active developer community. It's great for scripting, web development, data analysis, and more.\n",
      "\n",
      "I should structure my response clearly, maybe listing some key aspects in sections like history, features, applications, syntax, and why it's important. That way, the user can follow each section as they learn.\n",
      "\n",
      "Wait, I also remember that Python uses a mix of object-oriented and functional programming paradigms, which is something to note if they're into different programming styles. Also, there are modules and libraries that make it very powerful for specific tasks like web development with Flask or data manipulation with Pandas.\n",
      "\n",
      "I should make sure the response is comprehensive but not overwhelming. It's better to start with a basic overview since they might not be familiar with the term \"Python.\" Breaking down each section will help them understand each part of how Python works and why it's significant in various areas of computer science.\n",
      "</think>\n",
      "\n",
      "Sure! Here’s a more detailed explanation about Python:\n",
      "\n",
      "### What is Python?\n",
      "\n",
      "Python is a high-level programming language that is widely used for a variety of purposes, including web development, data analysis, machine learning, scientific computing, and more. It was created in 1980 by Brian McGetter and John Keck at the University of Michigan. The name \"Python\" comes from its full name, with \"i\" as the last letter capitalized.\n",
      "\n",
      "### Why is Python Used?\n",
      "\n",
      "- **Interpretation vs. compilation**: Unlike C or Java, where you compile your code into machine language before running it, Python is an interpreted language. This means that the computer doesn't take your code and compile it into efficient machine-level instructions; instead, Python parses and executes your code as-is.\n",
      "\n",
      "- **Simplicity and Readability**: Python's syntax is very simple, which makes it easier to read and understand. It uses indentation blocks (like if statements) without the need for curly braces like in other languages. This simplicity often leads to more readable code despite being less compact than some other languages.\n",
      "\n",
      "### Key Features of Python\n",
      "\n",
      "- **Object-Oriented Programming**: Python supports object-oriented programming, which means you can create objects that have data members and methods for manipulating them. These are very flexible and widely used for many types of tasks.\n",
      "\n",
      "- **Functional Programming**: Python also supports functional programming style through the use of map(), filter(), and reduce() functions.\n",
      "\n",
      "- **Third-Party Libraries**: Python has a vast ecosystem of third-party libraries (called modules) that extend its functionality. Examples include NumPy, Pandas, Matplotlib for data analysis, Flask for web development, Scikit-learn for machine learning, and many more.\n",
      "\n",
      "- **Community-Wide Development**: Python is developed by an open-source community, which allows for constant improvements through contributions from users worldwide.\n",
      "\n",
      "### Syntax of Python\n",
      "\n",
      "Python's syntax can be tricky at first because it has a mix of object-oriented and functional programming paradigms. Here are some examples:\n",
      "\n",
      "1. **Basic Conditional Statements**:\n",
      "   ```python\n",
      "   if x > y:\n",
      "       print(\"x is greater than y\")\n",
      "   ```\n",
      "\n",
      "2. **Loops**:\n",
      "   ```python\n",
      "   for i in range(5):\n",
      "       print(i)\n",
      "   ```\n",
      "\n",
      "3. **List and Tuples**:\n",
      "   ```python\n",
      "   numbers = [1, 2, 3]\n",
      "   my_tuple = (4, 5, 6)\n",
      "   print(numbers[2])  # Output: 3\n",
      "   print(my_tuple)    # Output: (4,5,6)\n",
      "   ```\n",
      "\n",
      "4. **Classes**:\n",
      "   ```python\n",
      "   class Square:\n",
      "       def __init__(self):\n",
      "           self.size = 10\n",
      "       def area(self):\n",
      "           return self.size * self.size\n",
      "\n",
      "   square = Square()\n",
      "   print(square.area())  # Output: 100\n",
      "   ```\n",
      "\n",
      "### Why is Python Important?\n",
      "\n",
      "- **Versatility**: Python can be used for almost any programming task. It's been the go-to language for many areas, including web development with Flask, data analysis with Pandas, and even machine learning with Scikit-learn.\n",
      "\n",
      "- **Cross-Domain Use**: Its versatility allows developers across different fields to use it effectively.\n",
      "\n",
      "- **Community Support**: The open-source nature means that there are always new features being added by the community, making Python a rapidly evolving language.\n",
      "\n",
      "### Conclusion\n",
      "\n",
      "Python is a versatile and powerful programming language that has become a cornerstone of modern software development. Whether you're building web applications, processing data, or developing machine learning models, Python's flexibility and simplicity make it an excellent choice for many tasks.\n"
     ]
    }
   ],
   "source": [
    "print(response.content)"
   ]
  },
  {
   "cell_type": "code",
   "execution_count": 11,
   "metadata": {},
   "outputs": [
    {
     "name": "stdout",
     "output_type": "stream",
     "text": [
      "<think>\n",
      "Okay, the user is asking, \"What is Python?\" and the assistant needs to provide an answer. Let me start by recalling the basics of Python.\n",
      "\n",
      "Python is a high-level, interpreted programming language. It was created by Guido van Rossum in 1991. It's known for being easy to read and write, which makes it popular among beginners. The syntax is simple, so people can focus on solving problems rather than getting bogged down by complex syntax.\n",
      "\n",
      "I should mention that Python is used in various fields like web development, data analysis, artificial intelligence, and automation. It's also open-source and has a vast ecosystem of libraries and frameworks. The standard library includes modules like os, sys, math, and datetime, which are useful for different tasks.\n",
      "\n",
      "It's important to note that Python is dynamically typed, meaning variables can be assigned without declaring their type. It supports multiple programming paradigms: procedural, object-oriented, and functional programming. Also, Python is case-sensitive, which is something to mention.\n",
      "\n",
      "The user might be a beginner, so explaining the key features and use cases would be helpful. Maybe include that it's cross-platform, runs on multiple operating systems, and has a large community. Also, mention that it's used in projects like Django for web development, NumPy for data analysis, and TensorFlow for machine learning.\n",
      "\n",
      "Wait, should I mention the version? Maybe not, since the user didn't specify. Focus on the core aspects. Also, note that it's a general-purpose language, not just for one specific area. Highlight that it's widely used in both small scripts and large-scale applications.\n",
      "\n",
      "I need to make sure the answer is clear and concise, covering the main points without getting too technical. Avoid jargon unless necessary. Make sure to explain why it's useful and where it's applied. Maybe end with a positive note about its popularity and community support.\n",
      "</think>\n",
      "\n",
      "파이썬은 고유한 프로그래밍 언어로, 1991년 Guido van Rossum이 개발한 언어입니다. 이 언어는 **고유한 문법**과 **간결한 구문**으로 인해 **초보자도 쉽게 배우고 사용할 수 있습니다**. \n",
      "\n",
      "### 주요 특징:\n",
      "1. **간결한 문법**:  \n",
      "   파이썬은 변수 선언, 반복, 조건문 등 기본 구조가 매우 간결하며, 코드를 작성할 때 복잡한 문법을 줄일 수 있습니다. 예:  \n",
      "   ```python\n",
      "   x = 10\n",
      "   print(x)  # 10\n",
      "   ```\n",
      "\n",
      "2. **다양한 사용 분야**:  \n",
      "   - **웹 개발**: Django, Flask 등  \n",
      "   - **데이터 분석**: Pandas, NumPy  \n",
      "   - **머신러닝**: TensorFlow, PyTorch  \n",
      "   - **자동화**: 스크립팅, 시스템 관리  \n",
      "   - **기하학**: 게임 개발, 시뮬레이션  \n",
      "\n",
      "3. **다양한 프레임워크**:  \n",
      "   - **OS**: `os`, `sys`  \n",
      "   - **데이터 처리**: `datetime`, `math`  \n",
      "   - **데이터 분석**: `pandas`, `matplotlib`  \n",
      "\n",
      "4. **개방적 커뮤니티**:  \n",
      "   파이썬은 오픈소스로, 빠르게 발전하고 있으며, 많은 라이브러리와 커뮤니티가 존재합니다.  \n",
      "\n",
      "5. **다중 플랫폼 지원**:  \n",
      "   Windows, macOS, Linux 등 다양한 운영체제에서 실행 가능하며, **cross-platform**입니다.  \n",
      "\n",
      "### 예시:\n",
      "```python\n",
      "# 단순한 계산\n",
      "result = 5 + 3\n",
      "print(result)  # 8\n",
      "\n",
      "# 문자열 처리\n",
      "message = \"Hello, Python!\"\n",
      "print(message)  # Hello, Python!\n",
      "```\n",
      "\n",
      "### 결론:\n",
      "파이썬은 **간결하고 유연한 언어**로, **데이터 분석, 웹, AI, 자동화 등 다양한 분야에서 널리 사용됩니다.** 초보자부터 전문가까지, 다양한 사용자들이 활발히 활동하고 있습니다. 🌟\n"
     ]
    }
   ],
   "source": [
    "from langchain_ollama import ChatOllama\n",
    "from langchain_core.prompts import ChatPromptTemplate\n",
    "\n",
    "# Ollama를 사용하여 로컬에서 실행 중인 llama3.2 모델 로드\n",
    "llm = ChatOllama(model=\"qwen3:1.7b\")\n",
    "\n",
    "# 더 정확한 응답을 위한 개선된 프롬프트\n",
    "prompt_template = ChatPromptTemplate.from_messages([\n",
    "    (\"system\", \"You are an AI assistant that provides accurate and detailed answers.\"),\n",
    "    (\"human\", \"Q: {question}\\nA:\")\n",
    "])\n",
    "\n",
    "# 최신 LangChain 방식: RunnableSequence 활용\n",
    "chain = prompt_template | llm\n",
    "\n",
    "# 실행 예시\n",
    "question = \"파이썬은 무엇인가요?\"\n",
    "response = chain.invoke({\"question\": question})\n",
    "\n",
    "print(response.content)"
   ]
  }
 ],
 "metadata": {
  "kernelspec": {
   "display_name": "mylangchain-app-py3.11",
   "language": "python",
   "name": "python3"
  },
  "language_info": {
   "codemirror_mode": {
    "name": "ipython",
    "version": 3
   },
   "file_extension": ".py",
   "mimetype": "text/x-python",
   "name": "python",
   "nbconvert_exporter": "python",
   "pygments_lexer": "ipython3",
   "version": "3.11.13"
  }
 },
 "nbformat": 4,
 "nbformat_minor": 2
}
