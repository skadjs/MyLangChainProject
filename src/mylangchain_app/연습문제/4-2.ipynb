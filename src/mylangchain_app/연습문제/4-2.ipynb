{
 "cells": [
  {
   "cell_type": "markdown",
   "id": "0e4c9edd",
   "metadata": {},
   "source": [
    "### 문제 4-2 : 조건부 분기가 있는 메뉴 추천 시스템 (LangGraph 사용)"
   ]
  },
  {
   "cell_type": "code",
   "execution_count": 1,
   "id": "c610473e",
   "metadata": {},
   "outputs": [],
   "source": [
    "import os\n",
    "import re\n",
    "import uuid\n",
    "from typing import List, Literal\n",
    "from langchain_core.documents import Document\n",
    "from langchain_core.messages import HumanMessage, AIMessage, BaseMessage\n",
    "from langchain.agents import tool\n",
    "from langchain_community.vectorstores import FAISS\n",
    "from langchain_upstage import UpstageEmbeddings, ChatUpstage\n",
    "from langgraph.graph import StateGraph, END\n",
    "from langgraph.graph.message import MessagesState\n",
    "from dotenv import load_dotenv\n",
    "from langgraph.checkpoint.memory import MemorySaver"
   ]
  },
  {
   "cell_type": "code",
   "execution_count": 2,
   "id": "b3c5d094",
   "metadata": {},
   "outputs": [],
   "source": [
    "def setup_environment():\n",
    "    load_dotenv()\n",
    "    if not os.getenv(\"UPSTAGE_API_KEY\"):\n",
    "        raise ValueError(\"UPSTAGE_API_KEY가 설정되지 않았습니다. .env 파일을 확인하세요.\")\n",
    "    print(\"환경 설정이 완료되었습니다.\")"
   ]
  },
  {
   "cell_type": "code",
   "execution_count": 3,
   "id": "708d53a4",
   "metadata": {},
   "outputs": [],
   "source": [
    "def parse_menu_data(file_path: str) -> List[dict]:\n",
    "    with open(file_path, 'r', encoding='utf-8') as f:\n",
    "        content = f.read()\n",
    "\n",
    "    menu_items = []\n",
    "    items = re.split(r'\\n(?=\\d+\\.\\s)', content)\n",
    "    for item in items:\n",
    "        if not item.strip():\n",
    "            continue\n",
    "        \n",
    "        name_match = re.search(r'^\\d+\\.\\s*(.+)', item)\n",
    "        price_match = re.search(r'•\\s*가격:\\s*(₩[\\d,]+)', item)\n",
    "        description_match = re.search(r'•\\s*설명:\\s*(.+)', item, re.DOTALL)\n",
    "        \n",
    "        if name_match and price_match and description_match:\n",
    "            menu_items.append({\n",
    "                \"menu_name\": name_match.group(1).strip(),\n",
    "                \"price\": price_match.group(1).strip(),\n",
    "                \"description\": description_match.group(1).strip()\n",
    "            })\n",
    "    return menu_items"
   ]
  },
  {
   "cell_type": "code",
   "execution_count": 4,
   "id": "f4805897",
   "metadata": {},
   "outputs": [],
   "source": [
    "def prepare_vector_db(file_path: str):\n",
    "    menu_data = parse_menu_data(file_path)\n",
    "    \n",
    "    documents = [\n",
    "        Document(\n",
    "            page_content=f\"메뉴명: {item['menu_name']}\\n가격: {item['price']}\\n설명: {item['description']}\",\n",
    "            metadata={\"menu_name\": item['menu_name']}\n",
    "        ) for item in menu_data\n",
    "    ]\n",
    "    embeddings = UpstageEmbeddings(model=\"solar-embedding-1-large\")\n",
    "    db = FAISS.from_documents(documents, embeddings)\n",
    "    print(\"카페 메뉴 Vector DB가 준비되었습니다.\")\n",
    "    return db"
   ]
  },
  {
   "cell_type": "code",
   "execution_count": 5,
   "id": "9b8d402d",
   "metadata": {},
   "outputs": [],
   "source": [
    "class GraphState(MessagesState):\n",
    "    inquiry_type: Literal[\"menu\", \"price\", \"recommendation\", \"general\"]\n",
    "    context: str"
   ]
  },
  {
   "cell_type": "code",
   "execution_count": 6,
   "id": "cd0fcf2e",
   "metadata": {},
   "outputs": [
    {
     "name": "stdout",
     "output_type": "stream",
     "text": [
      "카페 메뉴 Vector DB가 준비되었습니다.\n"
     ]
    }
   ],
   "source": [
    "file_path = '../data/cafe_menu_data.txt'\n",
    "\n",
    "menu_db = prepare_vector_db(file_path)\n",
    "llm = ChatUpstage(model=\"solar-1-mini-chat\")"
   ]
  },
  {
   "cell_type": "code",
   "execution_count": 7,
   "id": "60bec91d",
   "metadata": {},
   "outputs": [],
   "source": [
    "def classify_inquiry(state: GraphState) -> GraphState:\n",
    "    print(\"--- 노드: 문의 유형 분류 ---\")\n",
    "    user_message = state[\"messages\"][-1].content\n",
    "    \n",
    "    price_keywords = [\"가격\", \"얼마\", \"비용\"]\n",
    "    recommend_keywords = [\"추천\", \"어떤\", \"골라줘\"]\n",
    "    menu_keywords = [\"메뉴\", \"뭐 있어\", \"종류\"]\n",
    "\n",
    "    if any(keyword in user_message for keyword in price_keywords):\n",
    "        inquiry_type = \"price\"\n",
    "    elif any(keyword in user_message for keyword in recommend_keywords):\n",
    "        inquiry_type = \"recommendation\"\n",
    "    elif any(keyword in user_message for keyword in menu_keywords):\n",
    "        inquiry_type = \"menu\"\n",
    "    else:\n",
    "        # 키워드가 없으면 의미론적 검색을 위해 일단 'menu'로 분류\n",
    "        inquiry_type = \"menu\"\n",
    "        \n",
    "    print(f\"분류된 유형: {inquiry_type}\")\n",
    "    return {\"inquiry_type\": inquiry_type}"
   ]
  },
  {
   "cell_type": "code",
   "execution_count": 8,
   "id": "14e0611b",
   "metadata": {},
   "outputs": [],
   "source": [
    "def search_menu_info(state: GraphState) -> GraphState:\n",
    "    print(f\"--- 노드: 메뉴 정보 검색 ({state['inquiry_type']}) ---\")\n",
    "    inquiry_type = state[\"inquiry_type\"]\n",
    "    user_message = state[\"messages\"][-1].content\n",
    "\n",
    "    if inquiry_type == \"price\":\n",
    "        # 가격 문의 시, 더 넓은 범위에서 검색\n",
    "        docs = menu_db.similarity_search(user_message, k=5)\n",
    "    elif inquiry_type == \"recommendation\":\n",
    "        # 추천 요청 시, 사용자 메시지를 기반으로 검색하고 결과가 없으면 인기 메뉴 검색\n",
    "        docs = menu_db.similarity_search(user_message, k=3)\n",
    "        if not docs:\n",
    "            docs = menu_db.similarity_search(\"인기 메뉴\", k=3)\n",
    "    else: # \"menu\" 또는 일반\n",
    "        docs = menu_db.similarity_search(user_message, k=4)\n",
    "        \n",
    "    context = \"\\n\\n\".join([doc.page_content for doc in docs])\n",
    "    return {\"context\": context}"
   ]
  },
  {
   "cell_type": "code",
   "execution_count": 9,
   "id": "715ec20a",
   "metadata": {},
   "outputs": [],
   "source": [
    "def generate_response(state: GraphState) -> GraphState:\n",
    "    print(\"--- 노드: 답변 생성 ---\")\n",
    "    prompt = f\"\"\"당신은 친절한 카페 직원입니다. 아래 주어진 정보를 바탕으로 손님의 질문에 답변해주세요.\n",
    "\n",
    "[검색된 메뉴 정보]\n",
    "{state['context']}\n",
    "\n",
    "[손님 질문]\n",
    "{state['messages'][-1].content}\n",
    "\n",
    "답변:\n",
    "\"\"\"\n",
    "    response = llm.invoke(prompt)\n",
    "    return {\"messages\": [response]}"
   ]
  },
  {
   "cell_type": "code",
   "execution_count": 10,
   "id": "7c8cad42",
   "metadata": {},
   "outputs": [],
   "source": [
    "def handle_general_inquiry(state: GraphState) -> GraphState:\n",
    "    print(\"--- 노드: 일반 문의 처리 ---\")\n",
    "    response = AIMessage(content=\"죄송하지만, 저는 카페 메뉴에 대한 정보만 드릴 수 있어요. 다른 메뉴 관련 질문이 있으신가요?\")\n",
    "    return {\"messages\": [response]}"
   ]
  },
  {
   "cell_type": "code",
   "execution_count": 11,
   "id": "cf751c2b",
   "metadata": {},
   "outputs": [],
   "source": [
    "def route_inquiry(state: GraphState) -> Literal[\"search_info\", \"general_inquiry\"]:\n",
    "\n",
    "    user_message = state[\"messages\"][-1].content\n",
    "    docs = menu_db.similarity_search(user_message, k=1)\n",
    "    \n",
    "    if \"메뉴\" in user_message or \"가격\" in user_message or \"추천\" in user_message or docs:\n",
    "        return \"search_info\"\n",
    "    else:\n",
    "        return \"general_inquiry\"\n"
   ]
  },
  {
   "cell_type": "code",
   "execution_count": 12,
   "id": "d56d54c9",
   "metadata": {},
   "outputs": [],
   "source": [
    "def create_graph():\n",
    "    builder = StateGraph(GraphState)\n",
    "\n",
    "    builder.add_node(\"classify\", classify_inquiry)\n",
    "    builder.add_node(\"search_info\", search_menu_info)\n",
    "    builder.add_node(\"generate_response\", generate_response)\n",
    "    builder.add_node(\"general_inquiry\", handle_general_inquiry)\n",
    "\n",
    "    builder.set_entry_point(\"classify\")\n",
    "    \n",
    "    builder.add_conditional_edges(\n",
    "        \"classify\",\n",
    "        route_inquiry,\n",
    "        {\n",
    "            \"search_info\": \"search_info\",\n",
    "            \"general_inquiry\": \"general_inquiry\"\n",
    "        }\n",
    "    )\n",
    "    \n",
    "    builder.add_edge(\"search_info\", \"generate_response\")\n",
    "    builder.add_edge(\"generate_response\", END)\n",
    "    builder.add_edge(\"general_inquiry\", END)\n",
    "    \n",
    "    graph = builder.compile(checkpointer=MemorySaver())\n",
    "    print(\"LangGraph 그래프가 생성되었습니다.\")\n",
    "    return graph"
   ]
  },
  {
   "cell_type": "code",
   "execution_count": 13,
   "id": "d4ef4c90",
   "metadata": {},
   "outputs": [],
   "source": [
    "def run_simulation(graph):\n",
    "    print(\"\\n--- 카페 메뉴 추천 챗봇 시뮬레이션 시작 ---\")\n",
    "    \n",
    "    # 각 대화 세션을 식별하기 위한 고유 ID\n",
    "    thread_id = str(uuid.uuid4())\n",
    "    config = {\"configurable\": {\"thread_id\": thread_id}}\n",
    "\n",
    "    questions = [\n",
    "        \"안녕하세요! 어떤 메뉴들이 있나요?\",\n",
    "        \"아메리카노 가격은 얼마인가요?\",\n",
    "        \"달콤한 디저트 좀 추천해주세요.\",\n",
    "        \"가장 인기 있는 메뉴는 뭐야?\",\n",
    "        \"오늘 날씨 어때요?\"\n",
    "    ]\n",
    "\n",
    "    for question in questions:\n",
    "        print(f\"\\nHuman: {question}\")\n",
    "        \n",
    "        # 이전 대화 기록이 자동으로 checkpointer에 의해 관리됨\n",
    "        result = graph.invoke({\"messages\": [HumanMessage(content=question)]}, config=config)\n",
    "        \n",
    "        response = result[\"messages\"][-1]\n",
    "        print(f\"AI: {response.content}\")"
   ]
  },
  {
   "cell_type": "code",
   "execution_count": 14,
   "id": "20ac3c74",
   "metadata": {},
   "outputs": [
    {
     "name": "stdout",
     "output_type": "stream",
     "text": [
      "환경 설정이 완료되었습니다.\n",
      "LangGraph 그래프가 생성되었습니다.\n",
      "\n",
      "--- 카페 메뉴 추천 챗봇 시뮬레이션 시작 ---\n",
      "\n",
      "Human: 안녕하세요! 어떤 메뉴들이 있나요?\n",
      "--- 노드: 문의 유형 분류 ---\n",
      "분류된 유형: recommendation\n",
      "--- 노드: 메뉴 정보 검색 (recommendation) ---\n",
      "--- 노드: 답변 생성 ---\n",
      "AI: 안녕하세요! 저희 카페에서는 다음과 같은 메뉴를 제공하고 있습니다:\n",
      "\n",
      "1. **티라미수** (₩7,500)  \n",
      "   - 이탈리아 전통 디저트로, 마스카포네 치즈와 에스프레소에 적신 레이디핑거를 층층이 쌓아 만들었습니다. 부드럽고 달콤한 맛이 특징이며, 코코아 파우더로 마무리하여 깊은 풍미를 자랑합니다.\n",
      "\n",
      "2. **카푸치노** (₩5,000)  \n",
      "   - 에스프레소, 스팀 밀크, 우유 거품이 1:1:1 비율로 구성된 이탈리아 전통 커피입니다. 진한 커피 맛과 부드러운 우유 거품의 조화가 일품이며, 계피 파우더를 뿌려 제공합니다.\n",
      "\n",
      "3. **콜드브루** (₩5,000)  \n",
      "   - 찬물에 12-24시간 우려낸 콜드브루 원액을 사용한 시원한 커피입니다. 부드럽고 달콤한 맛이 특징이며, 산미가 적어 누구나 부담 없이 즐길 수 있습니다. 얼음과 함께 시원하게 제공됩니다.\n",
      "\n",
      "이 중에서 어떤 메뉴를 주문하시겠어요? 추가로 궁금한 사항이 있으시면 언제든지 물어보세요!\n",
      "\n",
      "Human: 아메리카노 가격은 얼마인가요?\n",
      "--- 노드: 문의 유형 분류 ---\n",
      "분류된 유형: price\n",
      "--- 노드: 메뉴 정보 검색 (price) ---\n",
      "--- 노드: 답변 생성 ---\n",
      "AI: 아메리카노의 가격은 ₩4,500입니다. 진한 에스프레소에 뜨거운 물을 더해 만든 클래식한 블랙 커피로, 원두 본연의 맛과 깔끔하고 깊은 풍미를 느끼실 수 있습니다. 설탕이나 시럽을 추가하셔서 더욱 맛있게 즐기실 수 있습니다.\n",
      "\n",
      "Human: 달콤한 디저트 좀 추천해주세요.\n",
      "--- 노드: 문의 유형 분류 ---\n",
      "분류된 유형: recommendation\n",
      "--- 노드: 메뉴 정보 검색 (recommendation) ---\n",
      "--- 노드: 답변 생성 ---\n",
      "AI: 달콤한 디저트를 추천드리자면, \"티라미수\"를 추천드립니다. 이탈리아 전통 디저트로 부드럽고 달콤한 맛이 특징입니다. 마스카포네 치즈와 에스프레소에 적신 레이디핑거를 층층이 쌓아 만들었으며, 코코아 파우더로 마무리하여 깊은 풍미를 자랑합니다. 손님에게 확실한 만족감을 드릴 것입니다. 가격은 ₩7,500입니다. 추가로 달콤한 커피를 원하신다면 \"바닐라 라떼\"나 \"카라멜 마키아토\"도 좋은 선택이 될 것입니다. 바닐라 라떼는 달콤한 바닐라 시럽이 들어간 커피이고, 카라멜 마키아토는 카라멜 시럽과 휘핑크림이 들어간 달콤한 커피입니다.\n",
      "\n",
      "Human: 가장 인기 있는 메뉴는 뭐야?\n",
      "--- 노드: 문의 유형 분류 ---\n",
      "분류된 유형: menu\n",
      "--- 노드: 메뉴 정보 검색 (menu) ---\n",
      "--- 노드: 답변 생성 ---\n",
      "AI: 가장 인기 있는 메뉴는 바닐라 라떼와 프라푸치노입니다. 바닐라 라떼는 달콤한 바닐라 시럽과 커피의 조화가 많은 손님들에게 사랑받고 있으며, 프라푸치노는 시원하고 크리미한 질감으로 특히 여름철에 인기가 많습니다. 두 메뉴 모두 휘핑크림 토핑으로 풍성한 맛을 즐길 수 있어 많은 분들이 찾으시는 메뉴입니다.\n",
      "\n",
      "Human: 오늘 날씨 어때요?\n",
      "--- 노드: 문의 유형 분류 ---\n",
      "분류된 유형: menu\n",
      "--- 노드: 메뉴 정보 검색 (menu) ---\n",
      "--- 노드: 답변 생성 ---\n",
      "AI: 안녕하세요! 오늘은 날씨가 상당히 따뜻합니다. 콜드브루나 아이스 아메리카노 같은 시원한 음료가 잘 어울릴 것 같은 날씨네요. 무엇이든 시원한 음료로 기분 좋게 하루를 시작해 보세요!\n"
     ]
    }
   ],
   "source": [
    "if __name__ == \"__main__\":\n",
    "    setup_environment()\n",
    "    chatbot_graph = create_graph()\n",
    "    run_simulation(chatbot_graph)"
   ]
  }
 ],
 "metadata": {
  "kernelspec": {
   "display_name": "faiss-env",
   "language": "python",
   "name": "python3"
  },
  "language_info": {
   "codemirror_mode": {
    "name": "ipython",
    "version": 3
   },
   "file_extension": ".py",
   "mimetype": "text/x-python",
   "name": "python",
   "nbconvert_exporter": "python",
   "pygments_lexer": "ipython3",
   "version": "3.13.5"
  }
 },
 "nbformat": 4,
 "nbformat_minor": 5
}
