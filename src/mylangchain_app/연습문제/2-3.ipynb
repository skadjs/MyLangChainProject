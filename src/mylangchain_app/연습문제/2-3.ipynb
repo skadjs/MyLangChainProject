{
 "cells": [
  {
   "cell_type": "markdown",
   "id": "bb7a4f29",
   "metadata": {},
   "source": [
    "### 문제 2-3 : 학생 정보 구조화 시스템"
   ]
  },
  {
   "cell_type": "code",
   "execution_count": 41,
   "id": "eacbd906",
   "metadata": {},
   "outputs": [
    {
     "name": "stdout",
     "output_type": "stream",
     "text": [
      "gsk_T\n"
     ]
    }
   ],
   "source": [
    "from dotenv import load_dotenv\n",
    "import os\n",
    "# .env 파일을 불러와서 환경 변수로 설정\n",
    "load_dotenv(dotenv_path='../.env')\n",
    "\n",
    "OPENAI_API_KEY = os.getenv(\"OPENAI_API_KEY\")\n",
    "print(OPENAI_API_KEY[:5])"
   ]
  },
  {
   "cell_type": "code",
   "execution_count": 42,
   "id": "73b7f7d5",
   "metadata": {},
   "outputs": [],
   "source": [
    "from langchain_openai import ChatOpenAI\n",
    "from langchain_core.prompts import ChatPromptTemplate\n",
    "from langchain.output_parsers import PydanticOutputParser\n",
    "\n",
    "from pydantic import BaseModel, Field\n",
    "from typing import List\n",
    "from pprint import pprint\n",
    "import json"
   ]
  },
  {
   "cell_type": "code",
   "execution_count": 45,
   "id": "78c0334d",
   "metadata": {},
   "outputs": [],
   "source": [
    "# 출력 구조를 정의하는 Pydantic 모델\n",
    "class StudentInformationExtractor(BaseModel):\n",
    "    name: str = Field(description=\"이름\")\n",
    "    age: int = Field(description=\"나이\")\n",
    "    major: str = Field(description=\"전공\")\n",
    "    hobbies: List[str] = Field(description=\"취미 리스트\")\n",
    "    goal: str = Field(description=\"목표\")\n",
    "\n",
    "    # Pydantic 출력 파서 초기화\n",
    "parser = PydanticOutputParser(pydantic_object=StudentInformationExtractor)"
   ]
  },
  {
   "cell_type": "code",
   "execution_count": 46,
   "id": "deda3bfa",
   "metadata": {},
   "outputs": [],
   "source": [
    "#프롬프트 템플릿 설정\n",
    "template = \"\"\"\n",
    "다음 학생의 자유 형식 자기소개에서 이름, 나이, 전공, 취미 리스트, 목표를 json 형식으로 추출해 주세요.\n",
    "학생의 자유 형식 자기소개: {query}\n",
    "\n",
    "{format_instructions}\n",
    "\"\"\"\n",
    "\n",
    "prompt = ChatPromptTemplate.from_template(template)\n",
    "\n",
    "# 파서의 지시사항을 프롬프트에 주입\n",
    "prompt = prompt.partial(\n",
    "    format_instructions=parser.get_format_instructions()\n",
    ")"
   ]
  },
  {
   "cell_type": "code",
   "execution_count": 47,
   "id": "ac4410aa",
   "metadata": {},
   "outputs": [],
   "source": [
    "#ChatOpenAI 모델 초기화\n",
    "model = ChatOpenAI(\n",
    "    base_url=\"https://api.groq.com/openai/v1\",  # Groq API 엔드포인트\n",
    "    model=\"moonshotai/kimi-k2-instruct-0905\",\n",
    "    temperature=0.7\n",
    ")"
   ]
  },
  {
   "cell_type": "code",
   "execution_count": 48,
   "id": "afe57ec0",
   "metadata": {},
   "outputs": [],
   "source": [
    "# 체인 구성 및 실행\n",
    "query = \"안녕하세요! 저는 김민수이고 22살입니다. 컴퓨터공학을 전공하고 있어요. 취미로는 게임하기, 영화보기, 코딩하기가 있습니다. 앞으로 훌륭한 개발자가 되는 것이 목표입니다!!\"\n",
    "chain = prompt | model | parser\n",
    "output = chain.invoke({\"query\": query})"
   ]
  },
  {
   "cell_type": "code",
   "execution_count": 49,
   "id": "88dd2687",
   "metadata": {},
   "outputs": [
    {
     "name": "stdout",
     "output_type": "stream",
     "text": [
      "{\n",
      "    \"name\": \"김민수\",\n",
      "    \"age\": 22,\n",
      "    \"major\": \"컴퓨터공학\",\n",
      "    \"hobbies\": [\n",
      "        \"게임하기\",\n",
      "        \"영화보기\",\n",
      "        \"코딩하기\"\n",
      "    ],\n",
      "    \"goal\": \"훌륭한 개발자가 되는 것\"\n",
      "}\n"
     ]
    }
   ],
   "source": [
    "#Pydantic 모델 객체를 딕셔너리로 변환\n",
    "output_dict = output.model_dump()\n",
    "\n",
    "#딕셔너리를 json 형식의 문자열로 변환\n",
    "json_output = json.dumps(output_dict, indent=4, ensure_ascii=False)\n",
    "\n",
    "print(json_output)"
   ]
  }
 ],
 "metadata": {
  "kernelspec": {
   "display_name": "mylangchain-app-py3.11",
   "language": "python",
   "name": "python3"
  },
  "language_info": {
   "codemirror_mode": {
    "name": "ipython",
    "version": 3
   },
   "file_extension": ".py",
   "mimetype": "text/x-python",
   "name": "python",
   "nbconvert_exporter": "python",
   "pygments_lexer": "ipython3",
   "version": "3.11.13"
  }
 },
 "nbformat": 4,
 "nbformat_minor": 5
}
