{
 "cells": [
  {
   "cell_type": "markdown",
   "id": "8434c430",
   "metadata": {},
   "source": [
    "### 문제 2-4 : 여행 계획 분석기"
   ]
  },
  {
   "cell_type": "code",
   "execution_count": 26,
   "id": "6ae505d5",
   "metadata": {},
   "outputs": [
    {
     "name": "stdout",
     "output_type": "stream",
     "text": [
      "gsk_T\n"
     ]
    }
   ],
   "source": [
    "from dotenv import load_dotenv\n",
    "from langchain_openai import ChatOpenAI\n",
    "from langchain_core.prompts import ChatPromptTemplate\n",
    "from langchain.output_parsers import StructuredOutputParser, ResponseSchema\n",
    "from pprint import pprint\n",
    "import os\n",
    "import json\n",
    "\n",
    "# .env 파일을 불러와서 환경 변수로 설정\n",
    "load_dotenv(dotenv_path='../.env')\n",
    "\n",
    "OPENAI_API_KEY = os.getenv(\"OPENAI_API_KEY\")\n",
    "print(OPENAI_API_KEY[:5])"
   ]
  },
  {
   "cell_type": "code",
   "execution_count": 27,
   "id": "6916b1b1",
   "metadata": {},
   "outputs": [],
   "source": [
    "# 출력 구조 정의\n",
    "response_schemas = [\n",
    "    ResponseSchema(name=\"destination\", description=\"방문한 여행지\"),\n",
    "    ResponseSchema(name=\"duration\", description=\"여행 기간\"),\n",
    "    ResponseSchema(name=\"budget\", description=\"예산\"),\n",
    "    ResponseSchema(name=\"rating\", description=\"1-5점의 추천도\"),\n",
    "    ResponseSchema(name=\"activities\", description=\"주요 활동들을 리스트로 출력\")\n",
    "]\n",
    "\n",
    "# 파서 초기화\n",
    "parser = StructuredOutputParser.from_response_schemas(response_schemas)\n",
    "format_instructions = parser.get_format_instructions()"
   ]
  },
  {
   "cell_type": "code",
   "execution_count": 28,
   "id": "3bf707dc",
   "metadata": {},
   "outputs": [],
   "source": [
    "# 프롬프트 템플릿\n",
    "template = \"\"\"\n",
    "다음 여행 후기 혹은 계획을 분석하세요. 후기(계획) 내용: {review}\n",
    "\n",
    "{format_instructions}\n",
    "\"\"\"\n",
    "\n",
    "prompt = ChatPromptTemplate.from_template(template)\n",
    "prompt = prompt.partial(format_instructions=format_instructions)"
   ]
  },
  {
   "cell_type": "code",
   "execution_count": 29,
   "id": "8ce77ef6",
   "metadata": {},
   "outputs": [],
   "source": [
    "# 모델 초기화\n",
    "model = ChatOpenAI(\n",
    "    base_url=\"https://api.groq.com/openai/v1\",\n",
    "    model=\"moonshotai/kimi-k2-instruct-0905\",\n",
    "    temperature=0.7\n",
    ")"
   ]
  },
  {
   "cell_type": "code",
   "execution_count": 30,
   "id": "7d9c2c57",
   "metadata": {},
   "outputs": [],
   "source": [
    "# 테스트 리뷰 데이터\n",
    "review = \"\"\"\n",
    "지난 주에 부산으로 2박 3일 여행을 다녀왔어요.\n",
    "총 30만 원 정도 썼는데 해운대에서 바다 구경하고, 자갈치 시장에서 회 먹고, 감천문화마을도 구경했어요.\n",
    "정말 만족스러운 여행이었습니다.\n",
    "5점 만점에 4점 정도 줄 수 있을 것 같아요.\n",
    "\"\"\""
   ]
  },
  {
   "cell_type": "code",
   "execution_count": 31,
   "id": "f63e497c",
   "metadata": {},
   "outputs": [],
   "source": [
    "# 체인 실행\n",
    "chain = prompt | model | parser\n",
    "\n",
    "output = chain.invoke({\"review\": review})"
   ]
  },
  {
   "cell_type": "code",
   "execution_count": 32,
   "id": "017ee578",
   "metadata": {},
   "outputs": [
    {
     "name": "stdout",
     "output_type": "stream",
     "text": [
      "{\n",
      "    \"destination\": \"부산\",\n",
      "    \"duration\": \"2박 3일\",\n",
      "    \"budget\": \"30만 원\",\n",
      "    \"rating\": \"4점\",\n",
      "    \"activities\": [\n",
      "        \"해운대 바다 구경\",\n",
      "        \"자갈치 시장에서 회 먹기\",\n",
      "        \"감천문화마을 구경\"\n",
      "    ]\n",
      "}\n"
     ]
    }
   ],
   "source": [
    "json_output = json.dumps(output, indent=4, ensure_ascii=False)\n",
    "\n",
    "print(json_output)"
   ]
  }
 ],
 "metadata": {
  "kernelspec": {
   "display_name": "mylangchain-app-py3.11",
   "language": "python",
   "name": "python3"
  },
  "language_info": {
   "codemirror_mode": {
    "name": "ipython",
    "version": 3
   },
   "file_extension": ".py",
   "mimetype": "text/x-python",
   "name": "python",
   "nbconvert_exporter": "python",
   "pygments_lexer": "ipython3",
   "version": "3.11.13"
  }
 },
 "nbformat": 4,
 "nbformat_minor": 5
}
